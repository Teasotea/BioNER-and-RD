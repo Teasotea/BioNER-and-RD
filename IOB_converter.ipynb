{
  "cells": [
    {
      "cell_type": "markdown",
      "metadata": {
        "id": "view-in-github",
        "colab_type": "text"
      },
      "source": [
        "<a href=\"https://colab.research.google.com/github/Teasotea/Token-Classification-for-Bio-articles/blob/main/IOB_converter.ipynb\" target=\"_parent\"><img src=\"https://colab.research.google.com/assets/colab-badge.svg\" alt=\"Open In Colab\"/></a>"
      ]
    },
    {
      "cell_type": "markdown",
      "metadata": {
        "id": "c31Qw3Q_n6k7"
      },
      "source": [
        "# Import Libraries"
      ]
    },
    {
      "cell_type": "code",
      "execution_count": null,
      "metadata": {
        "id": "daVLY667npQW"
      },
      "outputs": [],
      "source": [
        "import numpy as np\n",
        "import pandas as pd\n",
        "import matplotlib.pyplot as plt\n",
        "import re"
      ]
    },
    {
      "cell_type": "code",
      "source": [
        "import nltk\n",
        "from nltk.tokenize import TreebankWordTokenizer as twt\n",
        "from nltk.tokenize import sent_tokenize, word_tokenize\n",
        "nltk.download('punkt')"
      ],
      "metadata": {
        "colab": {
          "base_uri": "https://localhost:8080/"
        },
        "id": "om1_HgEPmoO2",
        "outputId": "49c060b4-ee02-427c-96ef-b4c41fcef774"
      },
      "execution_count": null,
      "outputs": [
        {
          "output_type": "stream",
          "name": "stderr",
          "text": [
            "[nltk_data] Downloading package punkt to /root/nltk_data...\n",
            "[nltk_data]   Package punkt is already up-to-date!\n"
          ]
        },
        {
          "output_type": "execute_result",
          "data": {
            "text/plain": [
              "True"
            ]
          },
          "metadata": {},
          "execution_count": 104
        }
      ]
    },
    {
      "cell_type": "markdown",
      "source": [
        "# Load Data"
      ],
      "metadata": {
        "id": "iucyq7mpHkaw"
      }
    },
    {
      "cell_type": "code",
      "execution_count": null,
      "metadata": {
        "id": "E8bT9Pq9RPPX"
      },
      "outputs": [],
      "source": [
        "with open('/content/data0.txt') as f:\n",
        "      eval_article = f.read()"
      ]
    },
    {
      "cell_type": "code",
      "execution_count": null,
      "metadata": {
        "id": "-Ucls65AQ6JR"
      },
      "outputs": [],
      "source": [
        "train_df = pd.read_csv('/content/cdr_dner_train_df.csv')\n",
        "test_df = pd.read_csv('/content/cdr_dner_test_df.csv')\n",
        "dev_df = pd.read_csv('/content/cdr_dner_dev_df.csv')\n"
      ]
    },
    {
      "cell_type": "code",
      "execution_count": null,
      "metadata": {
        "id": "4cllAaK0S1Ez"
      },
      "outputs": [],
      "source": [
        "CID_train_df = train_df[train_df['xloc'] == \"CID\"].reset_index(drop=True)\n",
        "DNER_train_df = train_df[train_df['xloc'] != \"CID\"].reset_index(drop=True)\n",
        "\n",
        "CID_test_df = test_df[test_df['xloc'] == \"CID\"].reset_index(drop=True)\n",
        "DNER_test_df = test_df[test_df['xloc'] != \"CID\"].reset_index(drop=True)\n",
        "\n",
        "CID_dev_df = dev_df[dev_df['xloc'] == \"CID\"].reset_index(drop=True)\n",
        "DNER_dev_df = dev_df[dev_df['xloc'] != \"CID\"].reset_index(drop=True)"
      ]
    },
    {
      "cell_type": "code",
      "execution_count": null,
      "metadata": {
        "colab": {
          "base_uri": "https://localhost:8080/",
          "height": 337
        },
        "id": "tJ6UToaJTsOz",
        "outputId": "ebc43ad0-79f1-4f00-b16f-bbb52136333a"
      },
      "outputs": [
        {
          "output_type": "execute_result",
          "data": {
            "text/plain": [
              "  text_id xloc yloc          name    entity  name_id  \\\n",
              "0  227508    0    8      Naloxone  Chemical  D009270   \n",
              "1  227508   49   58     clonidine  Chemical  D003000   \n",
              "2  227508   93  105  hypertensive   Disease  D006973   \n",
              "3  227508  181  190     clonidine  Chemical  D003000   \n",
              "4  227508  244  252      nalozone  Chemical       -1   \n",
              "\n",
              "                                   title_source_text  \\\n",
              "0  Naloxone reverses the antihypertensive effect ...   \n",
              "1  Naloxone reverses the antihypertensive effect ...   \n",
              "2  Naloxone reverses the antihypertensive effect ...   \n",
              "3  Naloxone reverses the antihypertensive effect ...   \n",
              "4  Naloxone reverses the antihypertensive effect ...   \n",
              "\n",
              "                                         source_text  \n",
              "0  In unanesthetized, spontaneously hypertensive ...  \n",
              "1  In unanesthetized, spontaneously hypertensive ...  \n",
              "2  In unanesthetized, spontaneously hypertensive ...  \n",
              "3  In unanesthetized, spontaneously hypertensive ...  \n",
              "4  In unanesthetized, spontaneously hypertensive ...  "
            ],
            "text/html": [
              "\n",
              "  <div id=\"df-827e1dc0-f211-448e-b0b5-42b5ca356405\">\n",
              "    <div class=\"colab-df-container\">\n",
              "      <div>\n",
              "<style scoped>\n",
              "    .dataframe tbody tr th:only-of-type {\n",
              "        vertical-align: middle;\n",
              "    }\n",
              "\n",
              "    .dataframe tbody tr th {\n",
              "        vertical-align: top;\n",
              "    }\n",
              "\n",
              "    .dataframe thead th {\n",
              "        text-align: right;\n",
              "    }\n",
              "</style>\n",
              "<table border=\"1\" class=\"dataframe\">\n",
              "  <thead>\n",
              "    <tr style=\"text-align: right;\">\n",
              "      <th></th>\n",
              "      <th>text_id</th>\n",
              "      <th>xloc</th>\n",
              "      <th>yloc</th>\n",
              "      <th>name</th>\n",
              "      <th>entity</th>\n",
              "      <th>name_id</th>\n",
              "      <th>title_source_text</th>\n",
              "      <th>source_text</th>\n",
              "    </tr>\n",
              "  </thead>\n",
              "  <tbody>\n",
              "    <tr>\n",
              "      <th>0</th>\n",
              "      <td>227508</td>\n",
              "      <td>0</td>\n",
              "      <td>8</td>\n",
              "      <td>Naloxone</td>\n",
              "      <td>Chemical</td>\n",
              "      <td>D009270</td>\n",
              "      <td>Naloxone reverses the antihypertensive effect ...</td>\n",
              "      <td>In unanesthetized, spontaneously hypertensive ...</td>\n",
              "    </tr>\n",
              "    <tr>\n",
              "      <th>1</th>\n",
              "      <td>227508</td>\n",
              "      <td>49</td>\n",
              "      <td>58</td>\n",
              "      <td>clonidine</td>\n",
              "      <td>Chemical</td>\n",
              "      <td>D003000</td>\n",
              "      <td>Naloxone reverses the antihypertensive effect ...</td>\n",
              "      <td>In unanesthetized, spontaneously hypertensive ...</td>\n",
              "    </tr>\n",
              "    <tr>\n",
              "      <th>2</th>\n",
              "      <td>227508</td>\n",
              "      <td>93</td>\n",
              "      <td>105</td>\n",
              "      <td>hypertensive</td>\n",
              "      <td>Disease</td>\n",
              "      <td>D006973</td>\n",
              "      <td>Naloxone reverses the antihypertensive effect ...</td>\n",
              "      <td>In unanesthetized, spontaneously hypertensive ...</td>\n",
              "    </tr>\n",
              "    <tr>\n",
              "      <th>3</th>\n",
              "      <td>227508</td>\n",
              "      <td>181</td>\n",
              "      <td>190</td>\n",
              "      <td>clonidine</td>\n",
              "      <td>Chemical</td>\n",
              "      <td>D003000</td>\n",
              "      <td>Naloxone reverses the antihypertensive effect ...</td>\n",
              "      <td>In unanesthetized, spontaneously hypertensive ...</td>\n",
              "    </tr>\n",
              "    <tr>\n",
              "      <th>4</th>\n",
              "      <td>227508</td>\n",
              "      <td>244</td>\n",
              "      <td>252</td>\n",
              "      <td>nalozone</td>\n",
              "      <td>Chemical</td>\n",
              "      <td>-1</td>\n",
              "      <td>Naloxone reverses the antihypertensive effect ...</td>\n",
              "      <td>In unanesthetized, spontaneously hypertensive ...</td>\n",
              "    </tr>\n",
              "  </tbody>\n",
              "</table>\n",
              "</div>\n",
              "      <button class=\"colab-df-convert\" onclick=\"convertToInteractive('df-827e1dc0-f211-448e-b0b5-42b5ca356405')\"\n",
              "              title=\"Convert this dataframe to an interactive table.\"\n",
              "              style=\"display:none;\">\n",
              "        \n",
              "  <svg xmlns=\"http://www.w3.org/2000/svg\" height=\"24px\"viewBox=\"0 0 24 24\"\n",
              "       width=\"24px\">\n",
              "    <path d=\"M0 0h24v24H0V0z\" fill=\"none\"/>\n",
              "    <path d=\"M18.56 5.44l.94 2.06.94-2.06 2.06-.94-2.06-.94-.94-2.06-.94 2.06-2.06.94zm-11 1L8.5 8.5l.94-2.06 2.06-.94-2.06-.94L8.5 2.5l-.94 2.06-2.06.94zm10 10l.94 2.06.94-2.06 2.06-.94-2.06-.94-.94-2.06-.94 2.06-2.06.94z\"/><path d=\"M17.41 7.96l-1.37-1.37c-.4-.4-.92-.59-1.43-.59-.52 0-1.04.2-1.43.59L10.3 9.45l-7.72 7.72c-.78.78-.78 2.05 0 2.83L4 21.41c.39.39.9.59 1.41.59.51 0 1.02-.2 1.41-.59l7.78-7.78 2.81-2.81c.8-.78.8-2.07 0-2.86zM5.41 20L4 18.59l7.72-7.72 1.47 1.35L5.41 20z\"/>\n",
              "  </svg>\n",
              "      </button>\n",
              "      \n",
              "  <style>\n",
              "    .colab-df-container {\n",
              "      display:flex;\n",
              "      flex-wrap:wrap;\n",
              "      gap: 12px;\n",
              "    }\n",
              "\n",
              "    .colab-df-convert {\n",
              "      background-color: #E8F0FE;\n",
              "      border: none;\n",
              "      border-radius: 50%;\n",
              "      cursor: pointer;\n",
              "      display: none;\n",
              "      fill: #1967D2;\n",
              "      height: 32px;\n",
              "      padding: 0 0 0 0;\n",
              "      width: 32px;\n",
              "    }\n",
              "\n",
              "    .colab-df-convert:hover {\n",
              "      background-color: #E2EBFA;\n",
              "      box-shadow: 0px 1px 2px rgba(60, 64, 67, 0.3), 0px 1px 3px 1px rgba(60, 64, 67, 0.15);\n",
              "      fill: #174EA6;\n",
              "    }\n",
              "\n",
              "    [theme=dark] .colab-df-convert {\n",
              "      background-color: #3B4455;\n",
              "      fill: #D2E3FC;\n",
              "    }\n",
              "\n",
              "    [theme=dark] .colab-df-convert:hover {\n",
              "      background-color: #434B5C;\n",
              "      box-shadow: 0px 1px 3px 1px rgba(0, 0, 0, 0.15);\n",
              "      filter: drop-shadow(0px 1px 2px rgba(0, 0, 0, 0.3));\n",
              "      fill: #FFFFFF;\n",
              "    }\n",
              "  </style>\n",
              "\n",
              "      <script>\n",
              "        const buttonEl =\n",
              "          document.querySelector('#df-827e1dc0-f211-448e-b0b5-42b5ca356405 button.colab-df-convert');\n",
              "        buttonEl.style.display =\n",
              "          google.colab.kernel.accessAllowed ? 'block' : 'none';\n",
              "\n",
              "        async function convertToInteractive(key) {\n",
              "          const element = document.querySelector('#df-827e1dc0-f211-448e-b0b5-42b5ca356405');\n",
              "          const dataTable =\n",
              "            await google.colab.kernel.invokeFunction('convertToInteractive',\n",
              "                                                     [key], {});\n",
              "          if (!dataTable) return;\n",
              "\n",
              "          const docLinkHtml = 'Like what you see? Visit the ' +\n",
              "            '<a target=\"_blank\" href=https://colab.research.google.com/notebooks/data_table.ipynb>data table notebook</a>'\n",
              "            + ' to learn more about interactive tables.';\n",
              "          element.innerHTML = '';\n",
              "          dataTable['output_type'] = 'display_data';\n",
              "          await google.colab.output.renderOutput(dataTable, element);\n",
              "          const docLink = document.createElement('div');\n",
              "          docLink.innerHTML = docLinkHtml;\n",
              "          element.appendChild(docLink);\n",
              "        }\n",
              "      </script>\n",
              "    </div>\n",
              "  </div>\n",
              "  "
            ]
          },
          "metadata": {},
          "execution_count": 14
        }
      ],
      "source": [
        "DNER_train_df.head()"
      ]
    },
    {
      "cell_type": "markdown",
      "source": [
        "# Add iob-tags to dataset"
      ],
      "metadata": {
        "id": "vR0_n7PLb73Q"
      }
    },
    {
      "cell_type": "code",
      "source": [
        "DNER_train_df[\"text\"] = DNER_train_df.apply(lambda x: x['title_source_text']+ ' '+x['source_text'], axis = 1)\n",
        "DNER_train_df[\"loc\"] = DNER_train_df.apply(lambda x: tuple((x['xloc'],x['yloc'])), axis = 1)\n",
        "\n",
        "DNER_test_df['text'] = DNER_test_df.apply(lambda x: x['title_source_text']+ ' '+x['source_text'], axis = 1)\n",
        "DNER_test_df[\"loc\"] = DNER_test_df.apply(lambda x: tuple((x['xloc'],x['yloc'])), axis = 1)\n",
        "\n",
        "DNER_dev_df['text'] = DNER_dev_df.apply(lambda x: x['title_source_text']+ ' '+x['source_text'], axis = 1)\n",
        "DNER_dev_df[\"loc\"] = DNER_dev_df.apply(lambda x: tuple((x['xloc'],x['yloc'])), axis = 1)"
      ],
      "metadata": {
        "id": "Safquhil_8dt"
      },
      "execution_count": null,
      "outputs": []
    },
    {
      "cell_type": "code",
      "source": [
        "train_data_text_unp = pd.DataFrame(DNER_train_df[\"text\"].unique(), columns=[\"sent\"])\n",
        "train_data_text_unp['tokens'] = train_data_text_unp.sent.apply(lambda x: nltk.word_tokenize(x))\n",
        "train_data_text_unp['span_list'] = train_data_text_unp.sent.apply(lambda x: list(twt().span_tokenize(x)))\n",
        "\n",
        "test_data_text_unp = pd.DataFrame(DNER_test_df[\"text\"].unique(), columns=[\"sent\"])\n",
        "test_data_text_unp['tokens'] = test_data_text_unp.sent.apply(lambda x: nltk.word_tokenize(x))\n",
        "test_data_text_unp['span_list'] = test_data_text_unp.sent.apply(lambda x: list(twt().span_tokenize(x)))\n",
        "\n",
        "dev_data_text_unp = pd.DataFrame(DNER_dev_df[\"text\"].unique(), columns=[\"sent\"])\n",
        "dev_data_text_unp['tokens'] = dev_data_text_unp.sent.apply(lambda x: nltk.word_tokenize(x))\n",
        "dev_data_text_unp['span_list'] = dev_data_text_unp.sent.apply(lambda x: list(twt().span_tokenize(x)))"
      ],
      "metadata": {
        "id": "gldSfBDLj79N"
      },
      "execution_count": null,
      "outputs": []
    },
    {
      "cell_type": "code",
      "source": [
        "def get_items( source_df, item=\"entity\"):\n",
        "  items_by_text = []\n",
        "  for i in source_df[\"text\"].unique():\n",
        "    items_list = source_df[source_df[\"text\"] == i][item].tolist()\n",
        "    items_by_text.append(items_list)\n",
        "  return items_by_text"
      ],
      "metadata": {
        "id": "tU_jt9zZsdRL"
      },
      "execution_count": null,
      "outputs": []
    },
    {
      "cell_type": "code",
      "source": [
        "def extend_df(df, source_d = DNER_train_df):\n",
        "  df['entities'] = get_items(source_d,item=\"entity\")\n",
        "  df['names'] = get_items(source_d,item=\"name\")\n",
        "  df['loc'] = get_items(source_d,item=\"loc\")\n",
        "  df['name_ids'] = get_items(source_d,item=\"name_id\")\n",
        "  return df"
      ],
      "metadata": {
        "id": "YHZKdjE3u4lr"
      },
      "execution_count": null,
      "outputs": []
    },
    {
      "cell_type": "code",
      "source": [
        "train_data_text_unp = extend_df(train_data_text_unp)\n",
        "train_data_text_unp[\"ent_loc\"] = train_data_text_unp.apply(lambda x: dict(zip(x['loc'], x['entities'])), axis=1)\n",
        "\n",
        "test_data_text_unp = extend_df(test_data_text_unp)\n",
        "test_data_text_unp[\"ent_loc\"] = test_data_text_unp.apply(lambda x: dict(zip(x['loc'], x['entities'])), axis=1)\n",
        "\n",
        "dev_data_text_unp = extend_df(dev_data_text_unp)\n",
        "dev_data_text_unp[\"ent_loc\"] = dev_data_text_unp.apply(lambda x: dict(zip(x['loc'], x['entities'])), axis=1)"
      ],
      "metadata": {
        "id": "UNPuDJd_t9gb"
      },
      "execution_count": null,
      "outputs": []
    },
    {
      "cell_type": "code",
      "source": [
        "def get_iob(span_list, ent_loc):\n",
        "    iob_list = []\n",
        "    for start_sp, end_sp in span_list:\n",
        "        iob_tag = 'O'\n",
        "        for start, end in list(ent_loc.keys()):\n",
        "            if start.isnumeric() and end.isnumeric():\n",
        "              if int(start) == start_sp:\n",
        "                iob_tag = 'B' + '-' + ent_loc[(start, end)]\n",
        "                break\n",
        "              elif int(start) < start_sp and end_sp <= int(end):\n",
        "                iob_tag = 'I' + '-' + ent_loc[(start, end)]\n",
        "                break\n",
        "        iob_list.append(iob_tag)\n",
        "    return iob_list"
      ],
      "metadata": {
        "id": "deVHzbEz136m"
      },
      "execution_count": null,
      "outputs": []
    },
    {
      "cell_type": "code",
      "source": [
        "train_data_text_unp[\"iob_tags\"] = train_data_text_unp.apply(lambda x: get_iob(x['span_list'], x['ent_loc']), axis=1)\n",
        "iob_train = train_data_text_unp[['tokens', 'iob_tags']]\n",
        "\n",
        "test_data_text_unp[\"iob_tags\"] = test_data_text_unp.apply(lambda x: get_iob(x['span_list'], x['ent_loc']), axis=1)\n",
        "iob_test = test_data_text_unp[['tokens', 'iob_tags']]\n",
        "\n",
        "dev_data_text_unp[\"iob_tags\"] = dev_data_text_unp.apply(lambda x: get_iob(x['span_list'], x['ent_loc']), axis=1)\n",
        "iob_dev = dev_data_text_unp[['tokens', 'iob_tags']]"
      ],
      "metadata": {
        "id": "OnJypP8g2cFL"
      },
      "execution_count": null,
      "outputs": []
    },
    {
      "cell_type": "code",
      "source": [
        "iob_train.to_csv('iob_train.csv')\n",
        "iob_test.to_csv('iob_test.csv')\n",
        "iob_dev.to_csv('iob_dev.csv')"
      ],
      "metadata": {
        "id": "r-E6rJQZCQdb"
      },
      "execution_count": null,
      "outputs": []
    },
    {
      "cell_type": "code",
      "source": [
        "iob_dev"
      ],
      "metadata": {
        "colab": {
          "base_uri": "https://localhost:8080/",
          "height": 424
        },
        "id": "MzuhwPKdFfUf",
        "outputId": "803a8515-bc0d-472f-98c4-aac957389d64"
      },
      "execution_count": null,
      "outputs": [
        {
          "output_type": "execute_result",
          "data": {
            "text/plain": [
              "                                                tokens  \\\n",
              "0    [Tricuspid, valve, regurgitation, and, lithium...   \n",
              "1    [Phenobarbital-induced, dyskinesia, in, a, neu...   \n",
              "2    [Acute, changes, of, blood, ammonia, may, pred...   \n",
              "3    [Effects, of, calcitonin, on, rat, extrapyrami...   \n",
              "4    [Development, of, isoproterenol-induced, cardi...   \n",
              "..                                                 ...   \n",
              "495  [Reversible, cerebral, lesions, associated, wi...   \n",
              "496  [Antagonism, of, diazepam-induced, sedative, e...   \n",
              "497  [Enhanced, stimulus-induced, neurotransmitter,...   \n",
              "498  [Ocular, manifestations, of, juvenile, rheumat...   \n",
              "499  [Water, intoxication, associated, with, oxytoc...   \n",
              "\n",
              "                                              iob_tags  \n",
              "0    [B-Chemical, O, O, O, O, O, O, O, O, O, O, O, ...  \n",
              "1    [B-Chemical, I-Disease, O, O, O, O, O, O, O, O...  \n",
              "2    [B-Chemical, I-Chemical, O, O, O, O, O, I-Dise...  \n",
              "3    [B-Chemical, I-Chemical, I-Chemical, I-Chemica...  \n",
              "4    [O, O, O, O, O, I-Chemical, O, I-Disease, I-Di...  \n",
              "..                                                 ...  \n",
              "495  [B-Disease, I-Disease, O, O, I-Chemical, O, I-...  \n",
              "496  [O, O, O, O, O, O, O, I-Disease, O, O, O, O, O...  \n",
              "497  [B-Chemical, O, O, O, O, O, O, O, O, O, O, O, ...  \n",
              "498  [O, O, O, O, O, B-Chemical, O, O, O, O, O, O, ...  \n",
              "499  [O, O, O, O, O, O, O, O, O, O, O, O, O, O, O, ...  \n",
              "\n",
              "[500 rows x 2 columns]"
            ],
            "text/html": [
              "\n",
              "  <div id=\"df-5c756d68-43ed-4dac-8c2f-ce6cfae200e6\">\n",
              "    <div class=\"colab-df-container\">\n",
              "      <div>\n",
              "<style scoped>\n",
              "    .dataframe tbody tr th:only-of-type {\n",
              "        vertical-align: middle;\n",
              "    }\n",
              "\n",
              "    .dataframe tbody tr th {\n",
              "        vertical-align: top;\n",
              "    }\n",
              "\n",
              "    .dataframe thead th {\n",
              "        text-align: right;\n",
              "    }\n",
              "</style>\n",
              "<table border=\"1\" class=\"dataframe\">\n",
              "  <thead>\n",
              "    <tr style=\"text-align: right;\">\n",
              "      <th></th>\n",
              "      <th>tokens</th>\n",
              "      <th>iob_tags</th>\n",
              "    </tr>\n",
              "  </thead>\n",
              "  <tbody>\n",
              "    <tr>\n",
              "      <th>0</th>\n",
              "      <td>[Tricuspid, valve, regurgitation, and, lithium...</td>\n",
              "      <td>[B-Chemical, O, O, O, O, O, O, O, O, O, O, O, ...</td>\n",
              "    </tr>\n",
              "    <tr>\n",
              "      <th>1</th>\n",
              "      <td>[Phenobarbital-induced, dyskinesia, in, a, neu...</td>\n",
              "      <td>[B-Chemical, I-Disease, O, O, O, O, O, O, O, O...</td>\n",
              "    </tr>\n",
              "    <tr>\n",
              "      <th>2</th>\n",
              "      <td>[Acute, changes, of, blood, ammonia, may, pred...</td>\n",
              "      <td>[B-Chemical, I-Chemical, O, O, O, O, O, I-Dise...</td>\n",
              "    </tr>\n",
              "    <tr>\n",
              "      <th>3</th>\n",
              "      <td>[Effects, of, calcitonin, on, rat, extrapyrami...</td>\n",
              "      <td>[B-Chemical, I-Chemical, I-Chemical, I-Chemica...</td>\n",
              "    </tr>\n",
              "    <tr>\n",
              "      <th>4</th>\n",
              "      <td>[Development, of, isoproterenol-induced, cardi...</td>\n",
              "      <td>[O, O, O, O, O, I-Chemical, O, I-Disease, I-Di...</td>\n",
              "    </tr>\n",
              "    <tr>\n",
              "      <th>...</th>\n",
              "      <td>...</td>\n",
              "      <td>...</td>\n",
              "    </tr>\n",
              "    <tr>\n",
              "      <th>495</th>\n",
              "      <td>[Reversible, cerebral, lesions, associated, wi...</td>\n",
              "      <td>[B-Disease, I-Disease, O, O, I-Chemical, O, I-...</td>\n",
              "    </tr>\n",
              "    <tr>\n",
              "      <th>496</th>\n",
              "      <td>[Antagonism, of, diazepam-induced, sedative, e...</td>\n",
              "      <td>[O, O, O, O, O, O, O, I-Disease, O, O, O, O, O...</td>\n",
              "    </tr>\n",
              "    <tr>\n",
              "      <th>497</th>\n",
              "      <td>[Enhanced, stimulus-induced, neurotransmitter,...</td>\n",
              "      <td>[B-Chemical, O, O, O, O, O, O, O, O, O, O, O, ...</td>\n",
              "    </tr>\n",
              "    <tr>\n",
              "      <th>498</th>\n",
              "      <td>[Ocular, manifestations, of, juvenile, rheumat...</td>\n",
              "      <td>[O, O, O, O, O, B-Chemical, O, O, O, O, O, O, ...</td>\n",
              "    </tr>\n",
              "    <tr>\n",
              "      <th>499</th>\n",
              "      <td>[Water, intoxication, associated, with, oxytoc...</td>\n",
              "      <td>[O, O, O, O, O, O, O, O, O, O, O, O, O, O, O, ...</td>\n",
              "    </tr>\n",
              "  </tbody>\n",
              "</table>\n",
              "<p>500 rows × 2 columns</p>\n",
              "</div>\n",
              "      <button class=\"colab-df-convert\" onclick=\"convertToInteractive('df-5c756d68-43ed-4dac-8c2f-ce6cfae200e6')\"\n",
              "              title=\"Convert this dataframe to an interactive table.\"\n",
              "              style=\"display:none;\">\n",
              "        \n",
              "  <svg xmlns=\"http://www.w3.org/2000/svg\" height=\"24px\"viewBox=\"0 0 24 24\"\n",
              "       width=\"24px\">\n",
              "    <path d=\"M0 0h24v24H0V0z\" fill=\"none\"/>\n",
              "    <path d=\"M18.56 5.44l.94 2.06.94-2.06 2.06-.94-2.06-.94-.94-2.06-.94 2.06-2.06.94zm-11 1L8.5 8.5l.94-2.06 2.06-.94-2.06-.94L8.5 2.5l-.94 2.06-2.06.94zm10 10l.94 2.06.94-2.06 2.06-.94-2.06-.94-.94-2.06-.94 2.06-2.06.94z\"/><path d=\"M17.41 7.96l-1.37-1.37c-.4-.4-.92-.59-1.43-.59-.52 0-1.04.2-1.43.59L10.3 9.45l-7.72 7.72c-.78.78-.78 2.05 0 2.83L4 21.41c.39.39.9.59 1.41.59.51 0 1.02-.2 1.41-.59l7.78-7.78 2.81-2.81c.8-.78.8-2.07 0-2.86zM5.41 20L4 18.59l7.72-7.72 1.47 1.35L5.41 20z\"/>\n",
              "  </svg>\n",
              "      </button>\n",
              "      \n",
              "  <style>\n",
              "    .colab-df-container {\n",
              "      display:flex;\n",
              "      flex-wrap:wrap;\n",
              "      gap: 12px;\n",
              "    }\n",
              "\n",
              "    .colab-df-convert {\n",
              "      background-color: #E8F0FE;\n",
              "      border: none;\n",
              "      border-radius: 50%;\n",
              "      cursor: pointer;\n",
              "      display: none;\n",
              "      fill: #1967D2;\n",
              "      height: 32px;\n",
              "      padding: 0 0 0 0;\n",
              "      width: 32px;\n",
              "    }\n",
              "\n",
              "    .colab-df-convert:hover {\n",
              "      background-color: #E2EBFA;\n",
              "      box-shadow: 0px 1px 2px rgba(60, 64, 67, 0.3), 0px 1px 3px 1px rgba(60, 64, 67, 0.15);\n",
              "      fill: #174EA6;\n",
              "    }\n",
              "\n",
              "    [theme=dark] .colab-df-convert {\n",
              "      background-color: #3B4455;\n",
              "      fill: #D2E3FC;\n",
              "    }\n",
              "\n",
              "    [theme=dark] .colab-df-convert:hover {\n",
              "      background-color: #434B5C;\n",
              "      box-shadow: 0px 1px 3px 1px rgba(0, 0, 0, 0.15);\n",
              "      filter: drop-shadow(0px 1px 2px rgba(0, 0, 0, 0.3));\n",
              "      fill: #FFFFFF;\n",
              "    }\n",
              "  </style>\n",
              "\n",
              "      <script>\n",
              "        const buttonEl =\n",
              "          document.querySelector('#df-5c756d68-43ed-4dac-8c2f-ce6cfae200e6 button.colab-df-convert');\n",
              "        buttonEl.style.display =\n",
              "          google.colab.kernel.accessAllowed ? 'block' : 'none';\n",
              "\n",
              "        async function convertToInteractive(key) {\n",
              "          const element = document.querySelector('#df-5c756d68-43ed-4dac-8c2f-ce6cfae200e6');\n",
              "          const dataTable =\n",
              "            await google.colab.kernel.invokeFunction('convertToInteractive',\n",
              "                                                     [key], {});\n",
              "          if (!dataTable) return;\n",
              "\n",
              "          const docLinkHtml = 'Like what you see? Visit the ' +\n",
              "            '<a target=\"_blank\" href=https://colab.research.google.com/notebooks/data_table.ipynb>data table notebook</a>'\n",
              "            + ' to learn more about interactive tables.';\n",
              "          element.innerHTML = '';\n",
              "          dataTable['output_type'] = 'display_data';\n",
              "          await google.colab.output.renderOutput(dataTable, element);\n",
              "          const docLink = document.createElement('div');\n",
              "          docLink.innerHTML = docLinkHtml;\n",
              "          element.appendChild(docLink);\n",
              "        }\n",
              "      </script>\n",
              "    </div>\n",
              "  </div>\n",
              "  "
            ]
          },
          "metadata": {},
          "execution_count": 175
        }
      ]
    }
  ],
  "metadata": {
    "colab": {
      "name": "IOB_converter.ipynb",
      "provenance": [],
      "authorship_tag": "ABX9TyNh4lr/8zqNw0pzqo72Do6F",
      "include_colab_link": true
    },
    "kernelspec": {
      "display_name": "Python 3",
      "name": "python3"
    },
    "language_info": {
      "name": "python"
    },
    "accelerator": "GPU",
    "gpuClass": "standard"
  },
  "nbformat": 4,
  "nbformat_minor": 0
}