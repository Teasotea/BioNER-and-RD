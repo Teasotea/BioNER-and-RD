{
  "cells": [
    {
      "cell_type": "markdown",
      "metadata": {
        "id": "view-in-github",
        "colab_type": "text"
      },
      "source": [
        "<a href=\"https://colab.research.google.com/github/Teasotea/BioNER-and-RD/blob/main/IOB_converter.ipynb\" target=\"_parent\"><img src=\"https://colab.research.google.com/assets/colab-badge.svg\" alt=\"Open In Colab\"/></a>"
      ]
    },
    {
      "cell_type": "markdown",
      "metadata": {
        "id": "c31Qw3Q_n6k7"
      },
      "source": [
        "# Import Libraries"
      ]
    },
    {
      "cell_type": "code",
      "execution_count": 1,
      "metadata": {
        "id": "daVLY667npQW"
      },
      "outputs": [],
      "source": [
        "import numpy as np\n",
        "import pandas as pd\n",
        "import matplotlib.pyplot as plt\n",
        "import re"
      ]
    },
    {
      "cell_type": "code",
      "source": [
        "import nltk\n",
        "from nltk.tokenize import TreebankWordTokenizer as twt\n",
        "from nltk.tokenize import sent_tokenize, word_tokenize\n",
        "nltk.download('punkt')"
      ],
      "metadata": {
        "colab": {
          "base_uri": "https://localhost:8080/"
        },
        "id": "om1_HgEPmoO2",
        "outputId": "fa3c9c1c-e583-45bb-eff9-126e9bb4fc71"
      },
      "execution_count": 2,
      "outputs": [
        {
          "output_type": "stream",
          "name": "stderr",
          "text": [
            "[nltk_data] Downloading package punkt to /root/nltk_data...\n",
            "[nltk_data]   Unzipping tokenizers/punkt.zip.\n"
          ]
        },
        {
          "output_type": "execute_result",
          "data": {
            "text/plain": [
              "True"
            ]
          },
          "metadata": {},
          "execution_count": 2
        }
      ]
    },
    {
      "cell_type": "markdown",
      "source": [
        "# Load Data"
      ],
      "metadata": {
        "id": "WXFSDJb8IHbl"
      }
    },
    {
      "cell_type": "code",
      "execution_count": 3,
      "metadata": {
        "id": "E8bT9Pq9RPPX"
      },
      "outputs": [],
      "source": [
        "with open('/content/data0.txt') as f:\n",
        "      eval_article = f.read()"
      ]
    },
    {
      "cell_type": "code",
      "execution_count": 4,
      "metadata": {
        "id": "-Ucls65AQ6JR"
      },
      "outputs": [],
      "source": [
        "train_df = pd.read_csv('/content/cdr_dner_train_df.csv')\n",
        "test_df = pd.read_csv('/content/cdr_dner_test_df.csv')\n",
        "dev_df = pd.read_csv('/content/cdr_dner_dev_df.csv')\n"
      ]
    },
    {
      "cell_type": "code",
      "execution_count": 5,
      "metadata": {
        "id": "4cllAaK0S1Ez"
      },
      "outputs": [],
      "source": [
        "CID_train_df = train_df[train_df['xloc'] == \"CID\"].reset_index(drop=True)\n",
        "DNER_train_df = train_df[train_df['xloc'] != \"CID\"].reset_index(drop=True)\n",
        "\n",
        "CID_test_df = test_df[test_df['xloc'] == \"CID\"].reset_index(drop=True)\n",
        "DNER_test_df = test_df[test_df['xloc'] != \"CID\"].reset_index(drop=True)\n",
        "\n",
        "CID_dev_df = dev_df[dev_df['xloc'] == \"CID\"].reset_index(drop=True)\n",
        "DNER_dev_df = dev_df[dev_df['xloc'] != \"CID\"].reset_index(drop=True)"
      ]
    },
    {
      "cell_type": "markdown",
      "source": [
        "# Add iob-tags to dataset"
      ],
      "metadata": {
        "id": "vR0_n7PLb73Q"
      }
    },
    {
      "cell_type": "code",
      "source": [
        "DNER_train_df = DNER_train_df[DNER_train_df['xloc'].str.isnumeric() & DNER_train_df['yloc'].str.isnumeric()]\n",
        "DNER_test_df = DNER_test_df[DNER_test_df['xloc'].str.isnumeric() & DNER_test_df['yloc'].str.isnumeric()]\n",
        "DNER_dev_df = DNER_dev_df[DNER_dev_df['xloc'].str.isnumeric() & DNER_dev_df['yloc'].str.isnumeric()]\n",
        "\n",
        "DNER_train_df = DNER_train_df.astype({\"xloc\": int, \"yloc\": int}, errors='raise')\n",
        "DNER_test_df = DNER_test_df.astype({\"xloc\": int, \"yloc\": int}, errors='raise')\n",
        "DNER_dev_df = DNER_dev_df.astype({\"xloc\": int, \"yloc\": int}, errors='raise')"
      ],
      "metadata": {
        "id": "d1KgoVKsRsCO"
      },
      "execution_count": 6,
      "outputs": []
    },
    {
      "cell_type": "code",
      "source": [
        "DNER_train_df[\"text\"] = DNER_train_df.apply(lambda x: x['title_source_text']+ ' '+x['source_text'], axis = 1)\n",
        "DNER_train_df[\"loc\"] = DNER_train_df.apply(lambda x: tuple((x['xloc'],x['yloc'])), axis = 1)\n",
        "\n",
        "DNER_test_df['text'] = DNER_test_df.apply(lambda x: x['title_source_text']+ ' '+x['source_text'], axis = 1)\n",
        "DNER_test_df[\"loc\"] = DNER_test_df.apply(lambda x: tuple((x['xloc'],x['yloc'])), axis = 1)\n",
        "\n",
        "DNER_dev_df['text'] = DNER_dev_df.apply(lambda x: x['title_source_text']+ ' '+x['source_text'], axis = 1)\n",
        "DNER_dev_df[\"loc\"] = DNER_dev_df.apply(lambda x: tuple((x['xloc'],x['yloc'])), axis = 1)"
      ],
      "metadata": {
        "id": "Safquhil_8dt"
      },
      "execution_count": 7,
      "outputs": []
    },
    {
      "cell_type": "code",
      "source": [
        "train_data_text_unp = pd.DataFrame(DNER_train_df[\"text\"].unique(), columns=[\"sent\"])\n",
        "train_data_text_unp['tokens'] = train_data_text_unp.sent.apply(lambda x: list(twt().tokenize(x)))\n",
        "\n",
        "test_data_text_unp = pd.DataFrame(DNER_test_df[\"text\"].unique(), columns=[\"sent\"])\n",
        "test_data_text_unp['tokens'] = test_data_text_unp.sent.apply(lambda x: list(twt().tokenize(x)))\n",
        "\n",
        "dev_data_text_unp = pd.DataFrame(DNER_dev_df[\"text\"].unique(), columns=[\"sent\"])\n",
        "dev_data_text_unp['tokens'] = dev_data_text_unp.sent.apply(lambda x: list(twt().tokenize(x)))"
      ],
      "metadata": {
        "id": "gldSfBDLj79N"
      },
      "execution_count": 8,
      "outputs": []
    },
    {
      "cell_type": "code",
      "source": [
        "def get_items( source_df, item=\"entity\"):\n",
        "  items_by_text = []\n",
        "  for i in source_df[\"text\"].unique():\n",
        "    items_list = source_df[source_df[\"text\"] == i][item].tolist()\n",
        "    items_by_text.append(items_list)\n",
        "  return items_by_text"
      ],
      "metadata": {
        "id": "tU_jt9zZsdRL"
      },
      "execution_count": 9,
      "outputs": []
    },
    {
      "cell_type": "code",
      "source": [
        "def extend_df(df, source_d = DNER_train_df):\n",
        "  df['entities'] = get_items(source_d,item=\"entity\")\n",
        "  df['names'] = get_items(source_d,item=\"name\")\n",
        "  df['loc'] = get_items(source_d,item=\"loc\")\n",
        "  df['name_ids'] = get_items(source_d,item=\"name_id\")\n",
        "  return df"
      ],
      "metadata": {
        "id": "YHZKdjE3u4lr"
      },
      "execution_count": 10,
      "outputs": []
    },
    {
      "cell_type": "code",
      "source": [
        "train_data_text_unp = extend_df(train_data_text_unp, source_d = DNER_train_df)\n",
        "train_data_text_unp[\"ent_loc\"] = train_data_text_unp.apply(lambda x: dict(zip(x['loc'], x['entities'])), axis=1)\n",
        "\n",
        "test_data_text_unp = extend_df(test_data_text_unp, source_d = DNER_test_df)\n",
        "test_data_text_unp[\"ent_loc\"] = test_data_text_unp.apply(lambda x: dict(zip(x['loc'], x['entities'])), axis=1)\n",
        "\n",
        "dev_data_text_unp = extend_df(dev_data_text_unp, source_d = DNER_dev_df)\n",
        "dev_data_text_unp[\"ent_loc\"] = dev_data_text_unp.apply(lambda x: dict(zip(x['loc'], x['entities'])), axis=1)"
      ],
      "metadata": {
        "id": "UNPuDJd_t9gb"
      },
      "execution_count": 11,
      "outputs": []
    },
    {
      "cell_type": "code",
      "source": [
        "for i in train_data_text_unp.iloc[1]:\n",
        "  print(len(i), i)"
      ],
      "metadata": {
        "colab": {
          "base_uri": "https://localhost:8080/"
        },
        "id": "ONIh8VgBQnfg",
        "outputId": "9e94d053-211c-41a6-edf4-d19db9f451ba"
      },
      "execution_count": 12,
      "outputs": [
        {
          "output_type": "stream",
          "name": "stdout",
          "text": [
            "419 Lidocaine-induced cardiac asystole. Intravenous administration of a single 50-mg bolus of lidocaine in a 67-year-old man resulted in profound depression of the activity of the sinoatrial and atrioventricular nodal pacemakers. The patient had no apparent associated conditions which might have predisposed him to the development of bradyarrhythmias; and, thus, this probably represented a true idiosyncrasy to lidocaine.\n",
            "61 ['Lidocaine-induced', 'cardiac', 'asystole.', 'Intravenous', 'administration', 'of', 'a', 'single', '50-mg', 'bolus', 'of', 'lidocaine', 'in', 'a', '67-year-old', 'man', 'resulted', 'in', 'profound', 'depression', 'of', 'the', 'activity', 'of', 'the', 'sinoatrial', 'and', 'atrioventricular', 'nodal', 'pacemakers.', 'The', 'patient', 'had', 'no', 'apparent', 'associated', 'conditions', 'which', 'might', 'have', 'predisposed', 'him', 'to', 'the', 'development', 'of', 'bradyarrhythmias', ';', 'and', ',', 'thus', ',', 'this', 'probably', 'represented', 'a', 'true', 'idiosyncrasy', 'to', 'lidocaine', '.']\n",
            "6 ['Chemical', 'Disease', 'Chemical', 'Disease', 'Disease', 'Chemical']\n",
            "6 ['Lidocaine', 'cardiac asystole', 'lidocaine', 'depression', 'bradyarrhythmias', 'lidocaine']\n",
            "6 [(0, 9), (18, 34), (90, 99), (142, 152), (331, 347), (409, 418)]\n",
            "6 ['D008012', 'D006323', 'D008012', 'D003866', 'D001919', 'D008012']\n",
            "6 {(0, 9): 'Chemical', (18, 34): 'Disease', (90, 99): 'Chemical', (142, 152): 'Disease', (331, 347): 'Disease', (409, 418): 'Chemical'}\n"
          ]
        }
      ]
    },
    {
      "cell_type": "code",
      "source": [
        "def get_iob(text, ent_loc):\n",
        "    \n",
        "    span_list = list(twt().span_tokenize(text))\n",
        "    iob_list = []\n",
        "    \n",
        "    for start_sp, end_sp in span_list:\n",
        "        iob_tag = 'O'\n",
        "        for start, end in list(ent_loc.keys()):\n",
        "              if int(start) == start_sp:\n",
        "                iob_tag = 'B' + '-' + ent_loc[(start, end)]\n",
        "                break\n",
        "              elif int(start) < start_sp and end_sp <= int(end):\n",
        "                iob_tag = 'I' + '-' + ent_loc[(start, end)]\n",
        "                break\n",
        "        iob_list.append(iob_tag)\n",
        "    return iob_list"
      ],
      "metadata": {
        "id": "deVHzbEz136m"
      },
      "execution_count": 13,
      "outputs": []
    },
    {
      "cell_type": "code",
      "source": [
        "train_data_text_unp[\"iob_tags\"] = train_data_text_unp.apply(lambda x: get_iob(x['sent'], x['ent_loc']), axis=1)\n",
        "iob_train = train_data_text_unp[['tokens', 'iob_tags']]\n",
        "\n",
        "test_data_text_unp[\"iob_tags\"] = test_data_text_unp.apply(lambda x: get_iob(x['sent'], x['ent_loc']), axis=1)\n",
        "iob_test = test_data_text_unp[['tokens', 'iob_tags']]\n",
        "\n",
        "dev_data_text_unp[\"iob_tags\"] = dev_data_text_unp.apply(lambda x: get_iob(x['sent'], x['ent_loc']), axis=1)\n",
        "iob_dev = dev_data_text_unp[['tokens', 'iob_tags']]"
      ],
      "metadata": {
        "id": "OnJypP8g2cFL"
      },
      "execution_count": 14,
      "outputs": []
    },
    {
      "cell_type": "code",
      "source": [
        "for i in train_data_text_unp.iloc[1]:\n",
        "  print(len(i), i)"
      ],
      "metadata": {
        "colab": {
          "base_uri": "https://localhost:8080/"
        },
        "id": "EsUAI_OxYtkw",
        "outputId": "704b164d-8796-47be-dfdb-5a450ce66d90"
      },
      "execution_count": 15,
      "outputs": [
        {
          "output_type": "stream",
          "name": "stdout",
          "text": [
            "419 Lidocaine-induced cardiac asystole. Intravenous administration of a single 50-mg bolus of lidocaine in a 67-year-old man resulted in profound depression of the activity of the sinoatrial and atrioventricular nodal pacemakers. The patient had no apparent associated conditions which might have predisposed him to the development of bradyarrhythmias; and, thus, this probably represented a true idiosyncrasy to lidocaine.\n",
            "61 ['Lidocaine-induced', 'cardiac', 'asystole.', 'Intravenous', 'administration', 'of', 'a', 'single', '50-mg', 'bolus', 'of', 'lidocaine', 'in', 'a', '67-year-old', 'man', 'resulted', 'in', 'profound', 'depression', 'of', 'the', 'activity', 'of', 'the', 'sinoatrial', 'and', 'atrioventricular', 'nodal', 'pacemakers.', 'The', 'patient', 'had', 'no', 'apparent', 'associated', 'conditions', 'which', 'might', 'have', 'predisposed', 'him', 'to', 'the', 'development', 'of', 'bradyarrhythmias', ';', 'and', ',', 'thus', ',', 'this', 'probably', 'represented', 'a', 'true', 'idiosyncrasy', 'to', 'lidocaine', '.']\n",
            "6 ['Chemical', 'Disease', 'Chemical', 'Disease', 'Disease', 'Chemical']\n",
            "6 ['Lidocaine', 'cardiac asystole', 'lidocaine', 'depression', 'bradyarrhythmias', 'lidocaine']\n",
            "6 [(0, 9), (18, 34), (90, 99), (142, 152), (331, 347), (409, 418)]\n",
            "6 ['D008012', 'D006323', 'D008012', 'D003866', 'D001919', 'D008012']\n",
            "6 {(0, 9): 'Chemical', (18, 34): 'Disease', (90, 99): 'Chemical', (142, 152): 'Disease', (331, 347): 'Disease', (409, 418): 'Chemical'}\n",
            "61 ['B-Chemical', 'B-Disease', 'O', 'O', 'O', 'O', 'O', 'O', 'O', 'O', 'O', 'B-Chemical', 'O', 'O', 'O', 'O', 'O', 'O', 'O', 'B-Disease', 'O', 'O', 'O', 'O', 'O', 'O', 'O', 'O', 'O', 'O', 'O', 'O', 'O', 'O', 'O', 'O', 'O', 'O', 'O', 'O', 'O', 'O', 'O', 'O', 'O', 'O', 'B-Disease', 'O', 'O', 'O', 'O', 'O', 'O', 'O', 'O', 'O', 'O', 'O', 'O', 'B-Chemical', 'O']\n"
          ]
        }
      ]
    },
    {
      "cell_type": "code",
      "source": [
        "iob_train.to_csv('iob_train.csv', index=False)\n",
        "iob_test.to_csv('iob_test.csv', index=False)\n",
        "iob_dev.to_csv('iob_dev.csv', index=False)"
      ],
      "metadata": {
        "id": "66qUc_kEcB_l"
      },
      "execution_count": 18,
      "outputs": []
    },
    {
      "cell_type": "code",
      "source": [
        "iob_train"
      ],
      "metadata": {
        "colab": {
          "base_uri": "https://localhost:8080/",
          "height": 424
        },
        "id": "zTopDqAO1Mbt",
        "outputId": "42d86c98-913e-43a1-b02f-0a6bb6722931"
      },
      "execution_count": 17,
      "outputs": [
        {
          "output_type": "execute_result",
          "data": {
            "text/plain": [
              "                                                tokens  \\\n",
              "0    [Naloxone, reverses, the, antihypertensive, ef...   \n",
              "1    [Lidocaine-induced, cardiac, asystole., Intrav...   \n",
              "2    [Suxamethonium, infusion, rate, and, observed,...   \n",
              "3    [Galanthamine, hydrobromide, ,, a, longer, act...   \n",
              "4    [Effects, of, uninephrectomy, and, high, prote...   \n",
              "..                                                 ...   \n",
              "484  [Visual, hallucinations, associated, with, zon...   \n",
              "485  [GLEPP1, receptor, tyrosine, phosphatase, (, P...   \n",
              "486  [Ticlopidine-induced, aplastic, anemia, :, rep...   \n",
              "487  [Facilitation, of, memory, retrieval, by, pre-...   \n",
              "488  [Test, conditions, influence, the, response, t...   \n",
              "\n",
              "                                              iob_tags  \n",
              "0    [B-Chemical, O, O, O, O, O, B-Chemical, O, O, ...  \n",
              "1    [B-Chemical, B-Disease, O, O, O, O, O, O, O, O...  \n",
              "2    [B-Chemical, O, O, O, O, B-Disease, O, O, O, B...  \n",
              "3    [B-Chemical, I-Chemical, O, O, O, O, O, O, O, ...  \n",
              "4    [O, O, O, O, O, O, O, O, B-Chemical, B-Disease...  \n",
              "..                                                 ...  \n",
              "484  [B-Disease, I-Disease, O, O, B-Chemical, B-Che...  \n",
              "485  [O, O, B-Chemical, O, O, O, O, O, O, B-Chemica...  \n",
              "486  [B-Chemical, B-Disease, I-Disease, O, O, O, O,...  \n",
              "487  [O, O, O, O, O, O, B-Chemical, O, O, O, O, O, ...  \n",
              "488  [O, O, O, O, O, O, O, O, O, O, O, O, O, O, O, ...  \n",
              "\n",
              "[489 rows x 2 columns]"
            ],
            "text/html": [
              "\n",
              "  <div id=\"df-52d02236-fb54-40c7-8d4b-7bcdb66513e0\">\n",
              "    <div class=\"colab-df-container\">\n",
              "      <div>\n",
              "<style scoped>\n",
              "    .dataframe tbody tr th:only-of-type {\n",
              "        vertical-align: middle;\n",
              "    }\n",
              "\n",
              "    .dataframe tbody tr th {\n",
              "        vertical-align: top;\n",
              "    }\n",
              "\n",
              "    .dataframe thead th {\n",
              "        text-align: right;\n",
              "    }\n",
              "</style>\n",
              "<table border=\"1\" class=\"dataframe\">\n",
              "  <thead>\n",
              "    <tr style=\"text-align: right;\">\n",
              "      <th></th>\n",
              "      <th>tokens</th>\n",
              "      <th>iob_tags</th>\n",
              "    </tr>\n",
              "  </thead>\n",
              "  <tbody>\n",
              "    <tr>\n",
              "      <th>0</th>\n",
              "      <td>[Naloxone, reverses, the, antihypertensive, ef...</td>\n",
              "      <td>[B-Chemical, O, O, O, O, O, B-Chemical, O, O, ...</td>\n",
              "    </tr>\n",
              "    <tr>\n",
              "      <th>1</th>\n",
              "      <td>[Lidocaine-induced, cardiac, asystole., Intrav...</td>\n",
              "      <td>[B-Chemical, B-Disease, O, O, O, O, O, O, O, O...</td>\n",
              "    </tr>\n",
              "    <tr>\n",
              "      <th>2</th>\n",
              "      <td>[Suxamethonium, infusion, rate, and, observed,...</td>\n",
              "      <td>[B-Chemical, O, O, O, O, B-Disease, O, O, O, B...</td>\n",
              "    </tr>\n",
              "    <tr>\n",
              "      <th>3</th>\n",
              "      <td>[Galanthamine, hydrobromide, ,, a, longer, act...</td>\n",
              "      <td>[B-Chemical, I-Chemical, O, O, O, O, O, O, O, ...</td>\n",
              "    </tr>\n",
              "    <tr>\n",
              "      <th>4</th>\n",
              "      <td>[Effects, of, uninephrectomy, and, high, prote...</td>\n",
              "      <td>[O, O, O, O, O, O, O, O, B-Chemical, B-Disease...</td>\n",
              "    </tr>\n",
              "    <tr>\n",
              "      <th>...</th>\n",
              "      <td>...</td>\n",
              "      <td>...</td>\n",
              "    </tr>\n",
              "    <tr>\n",
              "      <th>484</th>\n",
              "      <td>[Visual, hallucinations, associated, with, zon...</td>\n",
              "      <td>[B-Disease, I-Disease, O, O, B-Chemical, B-Che...</td>\n",
              "    </tr>\n",
              "    <tr>\n",
              "      <th>485</th>\n",
              "      <td>[GLEPP1, receptor, tyrosine, phosphatase, (, P...</td>\n",
              "      <td>[O, O, B-Chemical, O, O, O, O, O, O, B-Chemica...</td>\n",
              "    </tr>\n",
              "    <tr>\n",
              "      <th>486</th>\n",
              "      <td>[Ticlopidine-induced, aplastic, anemia, :, rep...</td>\n",
              "      <td>[B-Chemical, B-Disease, I-Disease, O, O, O, O,...</td>\n",
              "    </tr>\n",
              "    <tr>\n",
              "      <th>487</th>\n",
              "      <td>[Facilitation, of, memory, retrieval, by, pre-...</td>\n",
              "      <td>[O, O, O, O, O, O, B-Chemical, O, O, O, O, O, ...</td>\n",
              "    </tr>\n",
              "    <tr>\n",
              "      <th>488</th>\n",
              "      <td>[Test, conditions, influence, the, response, t...</td>\n",
              "      <td>[O, O, O, O, O, O, O, O, O, O, O, O, O, O, O, ...</td>\n",
              "    </tr>\n",
              "  </tbody>\n",
              "</table>\n",
              "<p>489 rows × 2 columns</p>\n",
              "</div>\n",
              "      <button class=\"colab-df-convert\" onclick=\"convertToInteractive('df-52d02236-fb54-40c7-8d4b-7bcdb66513e0')\"\n",
              "              title=\"Convert this dataframe to an interactive table.\"\n",
              "              style=\"display:none;\">\n",
              "        \n",
              "  <svg xmlns=\"http://www.w3.org/2000/svg\" height=\"24px\"viewBox=\"0 0 24 24\"\n",
              "       width=\"24px\">\n",
              "    <path d=\"M0 0h24v24H0V0z\" fill=\"none\"/>\n",
              "    <path d=\"M18.56 5.44l.94 2.06.94-2.06 2.06-.94-2.06-.94-.94-2.06-.94 2.06-2.06.94zm-11 1L8.5 8.5l.94-2.06 2.06-.94-2.06-.94L8.5 2.5l-.94 2.06-2.06.94zm10 10l.94 2.06.94-2.06 2.06-.94-2.06-.94-.94-2.06-.94 2.06-2.06.94z\"/><path d=\"M17.41 7.96l-1.37-1.37c-.4-.4-.92-.59-1.43-.59-.52 0-1.04.2-1.43.59L10.3 9.45l-7.72 7.72c-.78.78-.78 2.05 0 2.83L4 21.41c.39.39.9.59 1.41.59.51 0 1.02-.2 1.41-.59l7.78-7.78 2.81-2.81c.8-.78.8-2.07 0-2.86zM5.41 20L4 18.59l7.72-7.72 1.47 1.35L5.41 20z\"/>\n",
              "  </svg>\n",
              "      </button>\n",
              "      \n",
              "  <style>\n",
              "    .colab-df-container {\n",
              "      display:flex;\n",
              "      flex-wrap:wrap;\n",
              "      gap: 12px;\n",
              "    }\n",
              "\n",
              "    .colab-df-convert {\n",
              "      background-color: #E8F0FE;\n",
              "      border: none;\n",
              "      border-radius: 50%;\n",
              "      cursor: pointer;\n",
              "      display: none;\n",
              "      fill: #1967D2;\n",
              "      height: 32px;\n",
              "      padding: 0 0 0 0;\n",
              "      width: 32px;\n",
              "    }\n",
              "\n",
              "    .colab-df-convert:hover {\n",
              "      background-color: #E2EBFA;\n",
              "      box-shadow: 0px 1px 2px rgba(60, 64, 67, 0.3), 0px 1px 3px 1px rgba(60, 64, 67, 0.15);\n",
              "      fill: #174EA6;\n",
              "    }\n",
              "\n",
              "    [theme=dark] .colab-df-convert {\n",
              "      background-color: #3B4455;\n",
              "      fill: #D2E3FC;\n",
              "    }\n",
              "\n",
              "    [theme=dark] .colab-df-convert:hover {\n",
              "      background-color: #434B5C;\n",
              "      box-shadow: 0px 1px 3px 1px rgba(0, 0, 0, 0.15);\n",
              "      filter: drop-shadow(0px 1px 2px rgba(0, 0, 0, 0.3));\n",
              "      fill: #FFFFFF;\n",
              "    }\n",
              "  </style>\n",
              "\n",
              "      <script>\n",
              "        const buttonEl =\n",
              "          document.querySelector('#df-52d02236-fb54-40c7-8d4b-7bcdb66513e0 button.colab-df-convert');\n",
              "        buttonEl.style.display =\n",
              "          google.colab.kernel.accessAllowed ? 'block' : 'none';\n",
              "\n",
              "        async function convertToInteractive(key) {\n",
              "          const element = document.querySelector('#df-52d02236-fb54-40c7-8d4b-7bcdb66513e0');\n",
              "          const dataTable =\n",
              "            await google.colab.kernel.invokeFunction('convertToInteractive',\n",
              "                                                     [key], {});\n",
              "          if (!dataTable) return;\n",
              "\n",
              "          const docLinkHtml = 'Like what you see? Visit the ' +\n",
              "            '<a target=\"_blank\" href=https://colab.research.google.com/notebooks/data_table.ipynb>data table notebook</a>'\n",
              "            + ' to learn more about interactive tables.';\n",
              "          element.innerHTML = '';\n",
              "          dataTable['output_type'] = 'display_data';\n",
              "          await google.colab.output.renderOutput(dataTable, element);\n",
              "          const docLink = document.createElement('div');\n",
              "          docLink.innerHTML = docLinkHtml;\n",
              "          element.appendChild(docLink);\n",
              "        }\n",
              "      </script>\n",
              "    </div>\n",
              "  </div>\n",
              "  "
            ]
          },
          "metadata": {},
          "execution_count": 17
        }
      ]
    }
  ],
  "metadata": {
    "colab": {
      "name": "Copy of TokenClassification.ipynb",
      "provenance": [],
      "include_colab_link": true
    },
    "kernelspec": {
      "display_name": "Python 3",
      "name": "python3"
    },
    "language_info": {
      "name": "python"
    },
    "accelerator": "GPU",
    "gpuClass": "standard"
  },
  "nbformat": 4,
  "nbformat_minor": 0
}