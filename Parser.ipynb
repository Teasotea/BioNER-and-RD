{
  "nbformat": 4,
  "nbformat_minor": 0,
  "metadata": {
    "colab": {
      "name": "TokenClassification_1.ipynb",
      "provenance": [],
      "authorship_tag": "ABX9TyOEeIJy0mBdc2Gw31XzyLiJ",
      "include_colab_link": true
    },
    "kernelspec": {
      "name": "python3",
      "display_name": "Python 3"
    },
    "language_info": {
      "name": "python"
    }
  },
  "cells": [
    {
      "cell_type": "markdown",
      "metadata": {
        "id": "view-in-github",
        "colab_type": "text"
      },
      "source": [
        "<a href=\"https://colab.research.google.com/github/Teasotea/Token-Classification-for-Bio-articles/blob/main/Parser.ipynb\" target=\"_parent\"><img src=\"https://colab.research.google.com/assets/colab-badge.svg\" alt=\"Open In Colab\"/></a>"
      ]
    },
    {
      "cell_type": "markdown",
      "source": [
        "# Import Libraries"
      ],
      "metadata": {
        "id": "c31Qw3Q_n6k7"
      }
    },
    {
      "cell_type": "code",
      "execution_count": 124,
      "metadata": {
        "id": "daVLY667npQW"
      },
      "outputs": [],
      "source": [
        "import numpy as np\n",
        "import pandas as pd\n",
        "import matplotlib.pyplot as plt\n",
        "\n",
        "import re\n",
        "import sys\n",
        "from io import StringIO\n",
        "\n",
        "# pd.set_option('display.max_colwidth', None)"
      ]
    },
    {
      "cell_type": "markdown",
      "source": [
        "# Load Data"
      ],
      "metadata": {
        "id": "fSP4fXNcn9qr"
      }
    },
    {
      "cell_type": "code",
      "source": [
        "def dataset_parser(path):\n",
        "  df = pd.DataFrame(columns = [\"id\", \"xloc\", \"yloc\", \"name\", \"entity\", \"symb\",\n",
        "                               \"title_source_text\",\"source_text\", \"num_text\", \"lst_row\"])\n",
        "  def parse_text_sep(path):\n",
        "    with open(path) as f:\n",
        "      contents = f.read()\n",
        "      blank_line_regex = r\"(?:\\r?\\n){2,}\"\n",
        "      return re.split(blank_line_regex, contents.strip())\n",
        "  texts = parse_text_sep(path)\n",
        "\n",
        "  for i,text in enumerate(texts):\n",
        "    t1,t2,t3 = text.split('\\n', 2)\n",
        "    text_df = pd.read_csv(StringIO(t3), sep='\\t', names = [\"id\", \"xloc\", \"yloc\", \"name\", \"entity\", \"symb\"])\n",
        "    text_df[\"title_source_text\"] = t1.split(\"|\")[2]\n",
        "    text_df[\"source_text\"] = t2.split(\"|\")[2]\n",
        "    text_df[\"num_text\"] = i\n",
        "    text_df[\"lst_row\"] = ', '.join(t3.splitlines()[-1].split('\\t'))\n",
        "    text_df = text_df.drop(text_df.index[len(text_df)-1])\n",
        "    df = pd.concat([df, text_df])\n",
        "  df = df.reset_index(drop=True)\n",
        "  return df"
      ],
      "metadata": {
        "id": "Q1U5erpJ9w0u"
      },
      "execution_count": 134,
      "outputs": []
    },
    {
      "cell_type": "code",
      "source": [
        "train_df = dataset_parser('/content/CDR_TrainingSet.PubTator.txt')\n",
        "test_df = dataset_parser('/content/CDR_TestSet.PubTator.txt')\n",
        "dev_df = dataset_parser('/content/CDR_DevelopmentSet.PubTator.txt')"
      ],
      "metadata": {
        "id": "Tc58SMrE5U5o"
      },
      "execution_count": 138,
      "outputs": []
    },
    {
      "cell_type": "code",
      "source": [
        "train_df.to_csv('cdr_dner_train_df.csv', index=False)\n",
        "test_df.to_csv('cdr_dner_test_df.csv', index=False)\n",
        "dev_df.to_csv('cdr_dner_dev_df.csv', index=False)"
      ],
      "metadata": {
        "id": "73B1Zp6SFRKR"
      },
      "execution_count": 139,
      "outputs": []
    },
    {
      "cell_type": "code",
      "source": [
        "# tr_text = '354896\\t0\\t9\\tLidocaine\\tChemical\\tD008012\\n354896\\t18\\t34\\tcardiac asystole\\tDisease\\tD006323\\n354896\\t90\\t99\\tlidocaine\\tChemical\\tD008012\\n354896\\t142\\t152\\tdepression\\tDisease\\tD003866\\n354896\\t331\\t347\\tbradyarrhythmias\\tDisease\\tD001919\\n354896\\t409\\t418\\tlidocaine\\tChemical\\tD008012\\n354896\\tCID\\tD008012\\tD006323'\n",
        "# df = pd.read_csv(StringIO(tr_text), sep='\\t', names = [\"id\", \"xloc\", \"yloc\", \"name\", \"entity\", \"symb\"])\n",
        "# df[\"lst_row\"] = ', '.join(tr_text.splitlines()[-1].split('\\t'))\n",
        "# df = df.drop(df.index[len(df)-1])\n",
        "# df"
      ],
      "metadata": {
        "id": "pMbekkG3DY8e"
      },
      "execution_count": 137,
      "outputs": []
    },
    {
      "cell_type": "code",
      "source": [
        "with open('/content/data0.txt') as f:\n",
        "      eval_article = f.read()"
      ],
      "metadata": {
        "id": "wk2iJcikHgb1"
      },
      "execution_count": 141,
      "outputs": []
    }
  ]
}