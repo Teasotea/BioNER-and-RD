{
  "nbformat": 4,
  "nbformat_minor": 0,
  "metadata": {
    "colab": {
      "name": "Copy of TokenClassification_1.ipynb",
      "provenance": [],
      "authorship_tag": "ABX9TyNGmBPXA2IWzi7ij5N12Mh3",
      "include_colab_link": true
    },
    "kernelspec": {
      "name": "python3",
      "display_name": "Python 3"
    },
    "language_info": {
      "name": "python"
    }
  },
  "cells": [
    {
      "cell_type": "markdown",
      "metadata": {
        "id": "view-in-github",
        "colab_type": "text"
      },
      "source": [
        "<a href=\"https://colab.research.google.com/github/Teasotea/Token-Classification-for-Bio-articles/blob/main/Parser.ipynb\" target=\"_parent\"><img src=\"https://colab.research.google.com/assets/colab-badge.svg\" alt=\"Open In Colab\"/></a>"
      ]
    },
    {
      "cell_type": "markdown",
      "source": [
        "# Import Libraries"
      ],
      "metadata": {
        "id": "c31Qw3Q_n6k7"
      }
    },
    {
      "cell_type": "code",
      "execution_count": 1,
      "metadata": {
        "id": "daVLY667npQW"
      },
      "outputs": [],
      "source": [
        "import numpy as np\n",
        "import pandas as pd\n",
        "import matplotlib.pyplot as plt\n",
        "\n",
        "import re\n",
        "import sys\n",
        "from io import StringIO\n",
        "\n",
        "# pd.set_option('display.max_colwidth', None)"
      ]
    },
    {
      "cell_type": "markdown",
      "source": [
        "# Load Data"
      ],
      "metadata": {
        "id": "fSP4fXNcn9qr"
      }
    },
    {
      "cell_type": "code",
      "source": [
        "def dataset_parser(path):\n",
        "  df = pd.DataFrame(columns = [\"text_id\", \"xloc\", \"yloc\", \"name\", \"entity\", \"name_id\",\n",
        "                               \"title_source_text\",\"source_text\"])\n",
        "  def parse_text_sep(path):\n",
        "    with open(path) as f:\n",
        "      contents = f.read()\n",
        "      blank_line_regex = r\"(?:\\r?\\n){2,}\"\n",
        "      return re.split(blank_line_regex, contents.strip())\n",
        "  texts = parse_text_sep(path)\n",
        "\n",
        "  for text in texts:\n",
        "    t1,t2,t3 = text.split('\\n', 2)\n",
        "    text_df = pd.read_csv(StringIO(t3), sep='\\t', names = [\"text_id\", \"xloc\", \"yloc\", \"name\", \"entity\", \"name_id\"])\n",
        "    text_df[\"title_source_text\"] = t1.split(\"|\")[2]\n",
        "    text_df[\"source_text\"] = t2.split(\"|\")[2]\n",
        "    df = pd.concat([df, text_df.head(df.shape[0] -1)])\n",
        "  df = df.reset_index(drop=True)\n",
        "  return df\n"
      ],
      "metadata": {
        "id": "sJb3QCnSLYVF"
      },
      "execution_count": 25,
      "outputs": []
    },
    {
      "cell_type": "code",
      "source": [
        "train_df = dataset_parser('/content/CDR_TrainingSet.PubTator.txt')\n",
        "test_df = dataset_parser('/content/CDR_TestSet.PubTator.txt')\n",
        "dev_df = dataset_parser('/content/CDR_DevelopmentSet.PubTator.txt')"
      ],
      "metadata": {
        "id": "4_O1Bh2sLY-M"
      },
      "execution_count": 30,
      "outputs": []
    },
    {
      "cell_type": "code",
      "source": [
        "train_df.shape, test_df.shape, dev_df.shape"
      ],
      "metadata": {
        "id": "ir5BVNVCIyqg",
        "outputId": "ecf6796c-cd5d-4199-b940-f2dde0db182e",
        "colab": {
          "base_uri": "https://localhost:8080/"
        }
      },
      "execution_count": 31,
      "outputs": [
        {
          "output_type": "execute_result",
          "data": {
            "text/plain": [
              "((10422, 8), (10871, 8), (10602, 8))"
            ]
          },
          "metadata": {},
          "execution_count": 31
        }
      ]
    },
    {
      "cell_type": "code",
      "source": [
        "train_df.to_csv('cdr_dner_train_df.csv', index=False)\n",
        "test_df.to_csv('cdr_dner_test_df.csv', index=False)\n",
        "dev_df.to_csv('cdr_dner_dev_df.csv', index=False)"
      ],
      "metadata": {
        "id": "6yQhNhtlL3Zg"
      },
      "execution_count": 32,
      "outputs": []
    },
    {
      "cell_type": "code",
      "source": [
        "# tr_text = '354896\\t0\\t9\\tLidocaine\\tChemical\\tD008012\\n354896\\t18\\t34\\tcardiac asystole\\tDisease\\tD006323\\n354896\\t90\\t99\\tlidocaine\\tChemical\\tD008012\\n354896\\t142\\t152\\tdepression\\tDisease\\tD003866\\n354896\\t331\\t347\\tbradyarrhythmias\\tDisease\\tD001919\\n354896\\t409\\t418\\tlidocaine\\tChemical\\tD008012\\n354896\\tCID\\tD008012\\tD006323'\n",
        "# df = pd.read_csv(StringIO(tr_text), sep='\\t', names = [\"text_id\", \"xloc\", \"yloc\", \"name\", \"entity\", \"name_id\"])\n",
        "# df"
      ],
      "metadata": {
        "id": "utEoxsdqL5LF"
      },
      "execution_count": 28,
      "outputs": []
    },
    {
      "cell_type": "code",
      "source": [
        "with open('/content/data0.txt') as f:\n",
        "      eval_article = f.read()"
      ],
      "metadata": {
        "id": "wk2iJcikHgb1"
      },
      "execution_count": null,
      "outputs": []
    }
  ]
}