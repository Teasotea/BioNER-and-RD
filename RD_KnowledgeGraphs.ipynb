{
  "cells": [
    {
      "cell_type": "markdown",
      "metadata": {
        "id": "view-in-github",
        "colab_type": "text"
      },
      "source": [
        "<a href=\"https://colab.research.google.com/github/Teasotea/BioNER-and-RD/blob/main/RD_KnowledgeGraphs.ipynb\" target=\"_parent\"><img src=\"https://colab.research.google.com/assets/colab-badge.svg\" alt=\"Open In Colab\"/></a>"
      ]
    },
    {
      "cell_type": "markdown",
      "metadata": {
        "id": "c31Qw3Q_n6k7"
      },
      "source": [
        "# Import Libraries"
      ]
    },
    {
      "cell_type": "code",
      "execution_count": 24,
      "metadata": {
        "id": "daVLY667npQW"
      },
      "outputs": [],
      "source": [
        "import numpy as np\n",
        "import pandas as pd\n",
        "import matplotlib.pyplot as plt\n",
        "import re\n",
        "import io"
      ]
    },
    {
      "cell_type": "code",
      "source": [
        "import os\n",
        "import math\n",
        "import random\n",
        "import csv\n",
        "import sys\n",
        "\n",
        "import numpy as np\n",
        "import pandas as pd\n",
        "from sklearn import metrics\n",
        "from sklearn.metrics import f1_score\n",
        "from sklearn.metrics import classification_report\n",
        "import statistics as stats"
      ],
      "metadata": {
        "id": "M1GwMQ3ucBfN"
      },
      "execution_count": 5,
      "outputs": []
    },
    {
      "cell_type": "code",
      "source": [
        "import nltk\n",
        "from nltk.tokenize import TreebankWordTokenizer as twt\n",
        "import spacy\n",
        "from spacy import displacy\n",
        "\n",
        "from nltk.tokenize import word_tokenize\n",
        "from nltk.corpus import stopwords\n",
        "import string "
      ],
      "metadata": {
        "id": "3EQR-ljrEEWn"
      },
      "execution_count": 1,
      "outputs": []
    },
    {
      "cell_type": "code",
      "source": [
        "import pickle\n",
        "from google.colab import files"
      ],
      "metadata": {
        "id": "9qTl2vdWjc1H"
      },
      "execution_count": 2,
      "outputs": []
    },
    {
      "cell_type": "code",
      "source": [
        "import bs4\n",
        "import requests\n",
        "nlp = spacy.load('en_core_web_sm')\n",
        "nltk.download('stopwords')\n",
        "nltk.download('punkt')\n",
        "\n",
        "from spacy.matcher import Matcher \n",
        "from spacy.tokens import Span \n",
        "\n",
        "import networkx as nx\n",
        "from tqdm import tqdm\n",
        "\n",
        "pd.set_option('display.max_colwidth', 200)\n",
        "%matplotlib inline\n"
      ],
      "metadata": {
        "id": "v_5PwyaMuoTJ",
        "colab": {
          "base_uri": "https://localhost:8080/"
        },
        "outputId": "78285ebf-d161-4c08-e15c-c09aba1d8027"
      },
      "execution_count": 84,
      "outputs": [
        {
          "output_type": "stream",
          "name": "stderr",
          "text": [
            "[nltk_data] Downloading package stopwords to /root/nltk_data...\n",
            "[nltk_data]   Package stopwords is already up-to-date!\n",
            "[nltk_data] Downloading package punkt to /root/nltk_data...\n",
            "[nltk_data]   Unzipping tokenizers/punkt.zip.\n"
          ]
        }
      ]
    },
    {
      "cell_type": "code",
      "source": [
        "!git clone -b master https://github.com/charles9n/bert-sklearn\n",
        "!cd bert-sklearn; pip install .\n",
        "import os\n",
        "os.chdir(\"bert-sklearn\")\n",
        "print(os.listdir())"
      ],
      "metadata": {
        "id": "fWDIWjC6cL3k",
        "colab": {
          "base_uri": "https://localhost:8080/"
        },
        "outputId": "cfeb59b5-56b6-4990-94dc-b7e6a4c8fada"
      },
      "execution_count": 7,
      "outputs": [
        {
          "output_type": "stream",
          "name": "stdout",
          "text": [
            "fatal: destination path 'bert-sklearn' already exists and is not an empty directory.\n",
            "Looking in indexes: https://pypi.org/simple, https://us-python.pkg.dev/colab-wheels/public/simple/\n",
            "Processing /content/bert-sklearn\n",
            "\u001b[33m  DEPRECATION: A future pip version will change local packages to be built in-place without first copying to a temporary directory. We recommend you use --use-feature=in-tree-build to test your packages with this new behavior before it becomes the default.\n",
            "   pip 21.3 will remove support for this functionality. You can find discussion regarding this at https://github.com/pypa/pip/issues/7555.\u001b[0m\n",
            "Requirement already satisfied: torch>=0.4.1 in /usr/local/lib/python3.7/dist-packages (from bert-sklearn==0.3.1) (1.11.0+cu113)\n",
            "Requirement already satisfied: scikit-learn in /usr/local/lib/python3.7/dist-packages (from bert-sklearn==0.3.1) (1.0.2)\n",
            "Requirement already satisfied: numpy in /usr/local/lib/python3.7/dist-packages (from bert-sklearn==0.3.1) (1.21.6)\n",
            "Requirement already satisfied: pandas in /usr/local/lib/python3.7/dist-packages (from bert-sklearn==0.3.1) (1.3.5)\n",
            "Requirement already satisfied: boto3 in /usr/local/lib/python3.7/dist-packages (from bert-sklearn==0.3.1) (1.24.17)\n",
            "Requirement already satisfied: requests in /usr/local/lib/python3.7/dist-packages (from bert-sklearn==0.3.1) (2.23.0)\n",
            "Requirement already satisfied: tqdm in /usr/local/lib/python3.7/dist-packages (from bert-sklearn==0.3.1) (4.64.0)\n",
            "Requirement already satisfied: typing-extensions in /usr/local/lib/python3.7/dist-packages (from torch>=0.4.1->bert-sklearn==0.3.1) (4.1.1)\n",
            "Requirement already satisfied: botocore<1.28.0,>=1.27.17 in /usr/local/lib/python3.7/dist-packages (from boto3->bert-sklearn==0.3.1) (1.27.17)\n",
            "Requirement already satisfied: s3transfer<0.7.0,>=0.6.0 in /usr/local/lib/python3.7/dist-packages (from boto3->bert-sklearn==0.3.1) (0.6.0)\n",
            "Requirement already satisfied: jmespath<2.0.0,>=0.7.1 in /usr/local/lib/python3.7/dist-packages (from boto3->bert-sklearn==0.3.1) (1.0.1)\n",
            "Requirement already satisfied: python-dateutil<3.0.0,>=2.1 in /usr/local/lib/python3.7/dist-packages (from botocore<1.28.0,>=1.27.17->boto3->bert-sklearn==0.3.1) (2.8.2)\n",
            "Requirement already satisfied: urllib3<1.27,>=1.25.4 in /usr/local/lib/python3.7/dist-packages (from botocore<1.28.0,>=1.27.17->boto3->bert-sklearn==0.3.1) (1.25.11)\n",
            "Requirement already satisfied: six>=1.5 in /usr/local/lib/python3.7/dist-packages (from python-dateutil<3.0.0,>=2.1->botocore<1.28.0,>=1.27.17->boto3->bert-sklearn==0.3.1) (1.15.0)\n",
            "Requirement already satisfied: pytz>=2017.3 in /usr/local/lib/python3.7/dist-packages (from pandas->bert-sklearn==0.3.1) (2022.1)\n",
            "Requirement already satisfied: certifi>=2017.4.17 in /usr/local/lib/python3.7/dist-packages (from requests->bert-sklearn==0.3.1) (2022.6.15)\n",
            "Requirement already satisfied: chardet<4,>=3.0.2 in /usr/local/lib/python3.7/dist-packages (from requests->bert-sklearn==0.3.1) (3.0.4)\n",
            "Requirement already satisfied: idna<3,>=2.5 in /usr/local/lib/python3.7/dist-packages (from requests->bert-sklearn==0.3.1) (2.10)\n",
            "Requirement already satisfied: joblib>=0.11 in /usr/local/lib/python3.7/dist-packages (from scikit-learn->bert-sklearn==0.3.1) (1.1.0)\n",
            "Requirement already satisfied: scipy>=1.1.0 in /usr/local/lib/python3.7/dist-packages (from scikit-learn->bert-sklearn==0.3.1) (1.4.1)\n",
            "Requirement already satisfied: threadpoolctl>=2.0.0 in /usr/local/lib/python3.7/dist-packages (from scikit-learn->bert-sklearn==0.3.1) (3.1.0)\n",
            "Building wheels for collected packages: bert-sklearn\n",
            "  Building wheel for bert-sklearn (setup.py) ... \u001b[?25l\u001b[?25hdone\n",
            "  Created wheel for bert-sklearn: filename=bert_sklearn-0.3.1-py3-none-any.whl size=54247 sha256=561a7898f0bc1720b8547599054e02641018ad2e26bcdcdb7d8ec0d06f10e7d1\n",
            "  Stored in directory: /root/.cache/pip/wheels/e7/d4/73/12b2219a5cd4cd8c7acfd72204603ce34b6d2e4f620b205a80\n",
            "Successfully built bert-sklearn\n",
            "Installing collected packages: bert-sklearn\n",
            "  Attempting uninstall: bert-sklearn\n",
            "    Found existing installation: bert-sklearn 0.3.1\n",
            "    Uninstalling bert-sklearn-0.3.1:\n",
            "      Successfully uninstalled bert-sklearn-0.3.1\n",
            "Successfully installed bert-sklearn-0.3.1\n",
            "['bert_sklearn', 'README.md', 'glue_examples', 'setup.py', '.git', 'demo.ipynb', 'tests', 'LICENSE', 'demo_tuning_hyperparams.ipynb', 'Options.md', 'other_examples']\n"
          ]
        }
      ]
    },
    {
      "cell_type": "code",
      "source": [
        "# !pip install --upgrade sagemaker"
      ],
      "metadata": {
        "id": "NozIv0bciUmX"
      },
      "execution_count": 9,
      "outputs": []
    },
    {
      "cell_type": "code",
      "source": [
        "from bert_sklearn import BertTokenClassifier\n",
        "from bert_sklearn import load_model"
      ],
      "metadata": {
        "id": "Dm2VbWhUcK1Q"
      },
      "execution_count": 8,
      "outputs": []
    },
    {
      "cell_type": "code",
      "source": [
        "# !nvidia-smi"
      ],
      "metadata": {
        "id": "vsAdRmo0c2ei"
      },
      "execution_count": 8,
      "outputs": []
    },
    {
      "cell_type": "code",
      "source": [
        "import torch\n",
        "print('pytorch version:', torch.__version__)\n",
        "# print('GPU:',torch.cuda.get_device_name(0))"
      ],
      "metadata": {
        "id": "PRd1VCLdCPgS",
        "colab": {
          "base_uri": "https://localhost:8080/"
        },
        "outputId": "feb7bb5d-e452-4203-888a-6851d0a66a87"
      },
      "execution_count": 17,
      "outputs": [
        {
          "output_type": "stream",
          "name": "stdout",
          "text": [
            "pytorch version: 1.11.0+cu113\n"
          ]
        }
      ]
    },
    {
      "cell_type": "code",
      "source": [
        "flatten = lambda l: [item for sublist in l for item in sublist]"
      ],
      "metadata": {
        "id": "STgPdMEAnvHD"
      },
      "execution_count": 10,
      "outputs": []
    },
    {
      "cell_type": "markdown",
      "source": [
        "# Load Data"
      ],
      "metadata": {
        "id": "WXFSDJb8IHbl"
      }
    },
    {
      "cell_type": "code",
      "execution_count": 11,
      "metadata": {
        "id": "E8bT9Pq9RPPX"
      },
      "outputs": [],
      "source": [
        "with open('/content/data0.txt') as f:\n",
        "      eval_article = f.read()"
      ]
    },
    {
      "cell_type": "code",
      "source": [
        "data = pd.DataFrame()\n",
        "data['paragraphs'] = eval_article.split('\\n')\n",
        "data['tokenized'] = data['paragraphs'].apply(lambda x:list(twt().tokenize(x)))\n",
        "data.head()"
      ],
      "metadata": {
        "colab": {
          "base_uri": "https://localhost:8080/",
          "height": 424
        },
        "id": "CyM7iJuiHm5k",
        "outputId": "bb7ed6e5-9cdb-488a-e805-e3c07be5edcd"
      },
      "execution_count": 14,
      "outputs": [
        {
          "output_type": "execute_result",
          "data": {
            "text/plain": [
              "                                                                                                                                                                                                paragraphs  \\\n",
              "0  Transductional analysis was applied to the Pseudomonas aeruginosa mutant PAO14 (hnc-1). This mutant can utilize L-histidinol as sole source of carbon and nitrogen and has a 60-fold increased histi...   \n",
              "1  Bacteriocins produced by six strains of Rhizobium trifolii were found to be of the relatively low molecular weight, non-phage type. The molecular weights ranged from approximately 1-8 X 105 to 2-0...   \n",
              "2  The gamma haemolysin of Staphylococcus aureus \\'Smith 5R\\' was produced on Dolman-Wilson agar overlain with cellophane. Maximal yields of crude lysin with titres of 2000 to 4000 haemolytic units/m...   \n",
              "3  Arginine and methionine transport by Aspergillus nidulans mycelium was investigated. A single uptake system is responsible for the transport of arginine, lysine and ornithine. Transport is energy-...   \n",
              "4  Aphids transmitted poly-L-ornithine (PLO)-treated tobacco mosaic virus (TMV) when given acquistion and inoculation access periods as brief as 30 s and 2 min, respectively; the ability to transmit ...   \n",
              "\n",
              "                                                                                                                                                                                                 tokenized  \n",
              "0  [Transductional, analysis, was, applied, to, the, Pseudomonas, aeruginosa, mutant, PAO14, (, hnc-1, ), ., This, mutant, can, utilize, L-histidinol, as, sole, source, of, carbon, and, nitrogen, and...  \n",
              "1  [Bacteriocins, produced, by, six, strains, of, Rhizobium, trifolii, were, found, to, be, of, the, relatively, low, molecular, weight, ,, non-phage, type., The, molecular, weights, ranged, from, ap...  \n",
              "2  [The, gamma, haemolysin, of, Staphylococcus, aureus, \\'Smith, 5R\\, ', was, produced, on, Dolman-Wilson, agar, overlain, with, cellophane., Maximal, yields, of, crude, lysin, with, titres, of, 2000...  \n",
              "3  [Arginine, and, methionine, transport, by, Aspergillus, nidulans, mycelium, was, investigated., A, single, uptake, system, is, responsible, for, the, transport, of, arginine, ,, lysine, and, ornit...  \n",
              "4  [Aphids, transmitted, poly-L-ornithine, (, PLO, ), -treated, tobacco, mosaic, virus, (, TMV, ), when, given, acquistion, and, inoculation, access, periods, as, brief, as, 30, s, and, 2, min, ,, re...  "
            ],
            "text/html": [
              "\n",
              "  <div id=\"df-3bf0fb88-df39-496b-a014-2a2225e1ce53\">\n",
              "    <div class=\"colab-df-container\">\n",
              "      <div>\n",
              "<style scoped>\n",
              "    .dataframe tbody tr th:only-of-type {\n",
              "        vertical-align: middle;\n",
              "    }\n",
              "\n",
              "    .dataframe tbody tr th {\n",
              "        vertical-align: top;\n",
              "    }\n",
              "\n",
              "    .dataframe thead th {\n",
              "        text-align: right;\n",
              "    }\n",
              "</style>\n",
              "<table border=\"1\" class=\"dataframe\">\n",
              "  <thead>\n",
              "    <tr style=\"text-align: right;\">\n",
              "      <th></th>\n",
              "      <th>paragraphs</th>\n",
              "      <th>tokenized</th>\n",
              "    </tr>\n",
              "  </thead>\n",
              "  <tbody>\n",
              "    <tr>\n",
              "      <th>0</th>\n",
              "      <td>Transductional analysis was applied to the Pseudomonas aeruginosa mutant PAO14 (hnc-1). This mutant can utilize L-histidinol as sole source of carbon and nitrogen and has a 60-fold increased histi...</td>\n",
              "      <td>[Transductional, analysis, was, applied, to, the, Pseudomonas, aeruginosa, mutant, PAO14, (, hnc-1, ), ., This, mutant, can, utilize, L-histidinol, as, sole, source, of, carbon, and, nitrogen, and...</td>\n",
              "    </tr>\n",
              "    <tr>\n",
              "      <th>1</th>\n",
              "      <td>Bacteriocins produced by six strains of Rhizobium trifolii were found to be of the relatively low molecular weight, non-phage type. The molecular weights ranged from approximately 1-8 X 105 to 2-0...</td>\n",
              "      <td>[Bacteriocins, produced, by, six, strains, of, Rhizobium, trifolii, were, found, to, be, of, the, relatively, low, molecular, weight, ,, non-phage, type., The, molecular, weights, ranged, from, ap...</td>\n",
              "    </tr>\n",
              "    <tr>\n",
              "      <th>2</th>\n",
              "      <td>The gamma haemolysin of Staphylococcus aureus \\'Smith 5R\\' was produced on Dolman-Wilson agar overlain with cellophane. Maximal yields of crude lysin with titres of 2000 to 4000 haemolytic units/m...</td>\n",
              "      <td>[The, gamma, haemolysin, of, Staphylococcus, aureus, \\'Smith, 5R\\, ', was, produced, on, Dolman-Wilson, agar, overlain, with, cellophane., Maximal, yields, of, crude, lysin, with, titres, of, 2000...</td>\n",
              "    </tr>\n",
              "    <tr>\n",
              "      <th>3</th>\n",
              "      <td>Arginine and methionine transport by Aspergillus nidulans mycelium was investigated. A single uptake system is responsible for the transport of arginine, lysine and ornithine. Transport is energy-...</td>\n",
              "      <td>[Arginine, and, methionine, transport, by, Aspergillus, nidulans, mycelium, was, investigated., A, single, uptake, system, is, responsible, for, the, transport, of, arginine, ,, lysine, and, ornit...</td>\n",
              "    </tr>\n",
              "    <tr>\n",
              "      <th>4</th>\n",
              "      <td>Aphids transmitted poly-L-ornithine (PLO)-treated tobacco mosaic virus (TMV) when given acquistion and inoculation access periods as brief as 30 s and 2 min, respectively; the ability to transmit ...</td>\n",
              "      <td>[Aphids, transmitted, poly-L-ornithine, (, PLO, ), -treated, tobacco, mosaic, virus, (, TMV, ), when, given, acquistion, and, inoculation, access, periods, as, brief, as, 30, s, and, 2, min, ,, re...</td>\n",
              "    </tr>\n",
              "  </tbody>\n",
              "</table>\n",
              "</div>\n",
              "      <button class=\"colab-df-convert\" onclick=\"convertToInteractive('df-3bf0fb88-df39-496b-a014-2a2225e1ce53')\"\n",
              "              title=\"Convert this dataframe to an interactive table.\"\n",
              "              style=\"display:none;\">\n",
              "        \n",
              "  <svg xmlns=\"http://www.w3.org/2000/svg\" height=\"24px\"viewBox=\"0 0 24 24\"\n",
              "       width=\"24px\">\n",
              "    <path d=\"M0 0h24v24H0V0z\" fill=\"none\"/>\n",
              "    <path d=\"M18.56 5.44l.94 2.06.94-2.06 2.06-.94-2.06-.94-.94-2.06-.94 2.06-2.06.94zm-11 1L8.5 8.5l.94-2.06 2.06-.94-2.06-.94L8.5 2.5l-.94 2.06-2.06.94zm10 10l.94 2.06.94-2.06 2.06-.94-2.06-.94-.94-2.06-.94 2.06-2.06.94z\"/><path d=\"M17.41 7.96l-1.37-1.37c-.4-.4-.92-.59-1.43-.59-.52 0-1.04.2-1.43.59L10.3 9.45l-7.72 7.72c-.78.78-.78 2.05 0 2.83L4 21.41c.39.39.9.59 1.41.59.51 0 1.02-.2 1.41-.59l7.78-7.78 2.81-2.81c.8-.78.8-2.07 0-2.86zM5.41 20L4 18.59l7.72-7.72 1.47 1.35L5.41 20z\"/>\n",
              "  </svg>\n",
              "      </button>\n",
              "      \n",
              "  <style>\n",
              "    .colab-df-container {\n",
              "      display:flex;\n",
              "      flex-wrap:wrap;\n",
              "      gap: 12px;\n",
              "    }\n",
              "\n",
              "    .colab-df-convert {\n",
              "      background-color: #E8F0FE;\n",
              "      border: none;\n",
              "      border-radius: 50%;\n",
              "      cursor: pointer;\n",
              "      display: none;\n",
              "      fill: #1967D2;\n",
              "      height: 32px;\n",
              "      padding: 0 0 0 0;\n",
              "      width: 32px;\n",
              "    }\n",
              "\n",
              "    .colab-df-convert:hover {\n",
              "      background-color: #E2EBFA;\n",
              "      box-shadow: 0px 1px 2px rgba(60, 64, 67, 0.3), 0px 1px 3px 1px rgba(60, 64, 67, 0.15);\n",
              "      fill: #174EA6;\n",
              "    }\n",
              "\n",
              "    [theme=dark] .colab-df-convert {\n",
              "      background-color: #3B4455;\n",
              "      fill: #D2E3FC;\n",
              "    }\n",
              "\n",
              "    [theme=dark] .colab-df-convert:hover {\n",
              "      background-color: #434B5C;\n",
              "      box-shadow: 0px 1px 3px 1px rgba(0, 0, 0, 0.15);\n",
              "      filter: drop-shadow(0px 1px 2px rgba(0, 0, 0, 0.3));\n",
              "      fill: #FFFFFF;\n",
              "    }\n",
              "  </style>\n",
              "\n",
              "      <script>\n",
              "        const buttonEl =\n",
              "          document.querySelector('#df-3bf0fb88-df39-496b-a014-2a2225e1ce53 button.colab-df-convert');\n",
              "        buttonEl.style.display =\n",
              "          google.colab.kernel.accessAllowed ? 'block' : 'none';\n",
              "\n",
              "        async function convertToInteractive(key) {\n",
              "          const element = document.querySelector('#df-3bf0fb88-df39-496b-a014-2a2225e1ce53');\n",
              "          const dataTable =\n",
              "            await google.colab.kernel.invokeFunction('convertToInteractive',\n",
              "                                                     [key], {});\n",
              "          if (!dataTable) return;\n",
              "\n",
              "          const docLinkHtml = 'Like what you see? Visit the ' +\n",
              "            '<a target=\"_blank\" href=https://colab.research.google.com/notebooks/data_table.ipynb>data table notebook</a>'\n",
              "            + ' to learn more about interactive tables.';\n",
              "          element.innerHTML = '';\n",
              "          dataTable['output_type'] = 'display_data';\n",
              "          await google.colab.output.renderOutput(dataTable, element);\n",
              "          const docLink = document.createElement('div');\n",
              "          docLink.innerHTML = docLinkHtml;\n",
              "          element.appendChild(docLink);\n",
              "        }\n",
              "      </script>\n",
              "    </div>\n",
              "  </div>\n",
              "  "
            ]
          },
          "metadata": {},
          "execution_count": 14
        }
      ]
    },
    {
      "cell_type": "markdown",
      "source": [
        "# Load NER Model"
      ],
      "metadata": {
        "id": "q9UUsvPpIp5E"
      }
    },
    {
      "cell_type": "code",
      "source": [
        "class CPU_Unpickler(pickle.Unpickler):\n",
        "    def find_class(self, module, name):\n",
        "        if module == 'torch.storage' and name == '_load_from_bytes':\n",
        "            return lambda b: torch.load(io.BytesIO(b), map_location='cpu')\n",
        "        else: return super().find_class(module, name)\n",
        "\n",
        "scibert_model = CPU_Unpickler(open('/content/scibert_model.pkl', 'rb')).load() #for cpu"
      ],
      "metadata": {
        "id": "q8KplwRNrpQC"
      },
      "execution_count": 29,
      "outputs": []
    },
    {
      "cell_type": "code",
      "source": [
        "\n",
        "#pickled_model =  pickle.load(open('/content/scibert_model.pkl', 'rb')) #for gpu"
      ],
      "metadata": {
        "id": "fk_NWhAY_i0h"
      },
      "execution_count": 30,
      "outputs": []
    },
    {
      "cell_type": "markdown",
      "source": [
        "# Extract Named Entities "
      ],
      "metadata": {
        "id": "GxeFjtk0ul3c"
      }
    },
    {
      "cell_type": "code",
      "source": [
        "data_named_entities = scibert_model.predict(data['tokenized'])"
      ],
      "metadata": {
        "id": "094JLqXvEk0y",
        "colab": {
          "base_uri": "https://localhost:8080/",
          "height": 105,
          "referenced_widgets": [
            "c3e46ea128ab4ed5bec93e4a9a969e8e",
            "24a876e7011d4a639f13a45eb585de7f",
            "1aae0a12b4ec459d9195986fa3515601",
            "449e268ebf264b6c9846a137753d54c4",
            "716b63a8c1dd4c51ae0f40b42a22f128",
            "9af4a6d1e7634d5cb726f8bc0d52c025",
            "4b39e6aca8b74e62a47c42aaddc45833",
            "4b86f4730a104bf78e6a3bfa3b6742f0",
            "ca8de3917ad2425fa6c3d19553b059c5",
            "163751a4bc3845e188e2c2f2f71096e4",
            "0658f3545ba74458bae50cafae232215"
          ]
        },
        "outputId": "31f1ab77-2525-4d7e-a49b-c9b5adb3c32d"
      },
      "execution_count": 32,
      "outputs": [
        {
          "output_type": "stream",
          "name": "stderr",
          "text": [
            "/usr/local/lib/python3.7/dist-packages/torch/utils/data/dataloader.py:490: UserWarning: This DataLoader will create 5 worker processes in total. Our suggested max number of worker in current system is 2, which is smaller than what this DataLoader is going to create. Please be aware that excessive worker creation might get DataLoader running slow or even freeze, lower the worker number to avoid potential slowness/freeze if necessary.\n",
            "  cpuset_checked))\n"
          ]
        },
        {
          "output_type": "display_data",
          "data": {
            "text/plain": [
              "Predicting:   0%|          | 0/7 [00:00<?, ?it/s]"
            ],
            "application/vnd.jupyter.widget-view+json": {
              "version_major": 2,
              "version_minor": 0,
              "model_id": "c3e46ea128ab4ed5bec93e4a9a969e8e"
            }
          },
          "metadata": {}
        }
      ]
    },
    {
      "cell_type": "code",
      "source": [
        "print(data_named_entities[4])"
      ],
      "metadata": {
        "id": "VCSD86S-QKJp",
        "colab": {
          "base_uri": "https://localhost:8080/"
        },
        "outputId": "83a7eedb-ec5d-44c3-827f-c199e663eef5"
      },
      "execution_count": 34,
      "outputs": [
        {
          "output_type": "stream",
          "name": "stdout",
          "text": [
            "['O', 'O', 'B-Chemical', 'O', 'B-Chemical', 'O', 'O', 'B-Disease', 'I-Disease', 'I-Disease', 'O', 'B-Disease', 'O', 'O', 'O', 'O', 'O', 'O', 'O', 'O', 'O', 'O', 'O', 'O', 'O', 'O', 'O', 'O', 'O', 'O', 'O', 'O', 'O', 'O', 'O', 'O', 'O', 'O', 'O', 'O', 'O', 'O', 'O', 'O', 'O', 'O', 'O', 'O', 'O', 'O', 'O', 'O', 'O', 'O', 'O', 'O', 'O', 'O', 'O', 'O', 'O', 'O', 'O', 'B-Chemical', 'I-Chemical', 'O', 'O', 'O', 'O', 'O', 'B-Chemical', 'O', 'O', 'O', 'O', 'O', 'O', 'O', 'O', 'O', 'O', 'O', 'O', 'O', 'O', 'O', 'O', 'O', 'O', 'B-Chemical', 'O', 'O', 'O', 'O', 'O', 'O', 'O', 'O', 'O', 'O', 'O', 'O', 'O', 'O', 'B-Chemical', 'O', 'O', 'O', 'O', 'O', 'O', 'O', 'O', 'B-Chemical', 'O', 'O', 'O', 'B-Chemical', 'O', 'O', 'O', 'O', 'O', 'O', 'O', 'O', 'O', 'O', 'O', 'O', 'B-Chemical', 'O', 'O', 'O', 'O', 'O', 'O', 'O', 'B-Chemical', 'O', 'O', 'O', 'O', 'O', 'O', 'O', 'O', 'O', 'O', 'O', 'B-Chemical', 'B-Disease', 'O', 'O', 'O', 'B-Disease', 'I-Disease', 'O', 'B-Chemical', 'B-Disease', 'O', 'O', 'O', 'O', 'O', 'O', 'O', 'O', 'O', 'O', 'O', 'O', 'O', 'O', 'O', 'O', 'O', 'O', 'O', 'O', 'O', 'O', 'O', 'O', 'O', 'O', 'O', 'O', 'O', 'O', 'O', 'O', 'O', 'O', 'O', 'O', 'O', 'O', 'O', 'O', 'O', 'O', 'O', 'O', 'O', 'O', 'O', 'O', 'O', 'O', 'O', 'O', 'O', 'O', 'O', 'O', 'O', 'O', 'O', 'O', 'O', 'O', 'O', 'O', 'O', 'O', 'O', 'O', 'O', 'O', 'O', 'O', 'O', 'O', 'O', 'O', 'O', 'O', 'O', 'O', 'O', 'O', 'O', 'O', 'O', 'O', 'O', 'O', 'O', 'O', 'O', 'O', 'O', 'O', 'O', 'O', 'O', 'O', 'O', 'O', 'O', 'O', 'O', 'O', 'O', 'O', 'O']\n"
          ]
        }
      ]
    },
    {
      "cell_type": "code",
      "source": [
        "def extract_entities_from_string(string):\n",
        "  tokenized = list(twt().tokenize(string))\n",
        "  preds = scibert_model.predict(pd.Series([tokenized]))[0]\n",
        "  entities = []\n",
        "  for i, j in zip(tokenized, preds):\n",
        "    if j!= 'O':\n",
        "      entities.append(i)\n",
        "  return list(set(entities))"
      ],
      "metadata": {
        "id": "9FAyK9SH9ENr"
      },
      "execution_count": 159,
      "outputs": []
    },
    {
      "cell_type": "code",
      "source": [
        "extract_entities_from_string(data['paragraphs'].iloc[4])"
      ],
      "metadata": {
        "colab": {
          "base_uri": "https://localhost:8080/",
          "height": 338,
          "referenced_widgets": [
            "eda95bb642d6459b8a6a1c69ee169946",
            "235176a33462423dab6af25ae00fa8da",
            "a57adffaccab47e6aff06bcd2b6f7e03",
            "474604dc5774415db2c86ad599ae1aec",
            "42d09d66033040a9a4eaa28d9c0d9aba",
            "8fd49de9a890405db6319500391e0ed4",
            "f717f950af3347d5a8b571e7a2e365e7",
            "b748fea5758f482d8600e3ab50dd91dc",
            "923a4821d9ef4c85a16d1e9ad3648e6a",
            "91bc215e153e425b9978e40b18504eb0",
            "5d488fe00c4f4f2bb6017a2f787aed00"
          ]
        },
        "id": "Js7w5jtP_t8A",
        "outputId": "d24093b8-9a31-42de-b5fd-bc7f84281413"
      },
      "execution_count": 160,
      "outputs": [
        {
          "output_type": "stream",
          "name": "stderr",
          "text": [
            "/usr/local/lib/python3.7/dist-packages/torch/utils/data/dataloader.py:490: UserWarning: This DataLoader will create 5 worker processes in total. Our suggested max number of worker in current system is 2, which is smaller than what this DataLoader is going to create. Please be aware that excessive worker creation might get DataLoader running slow or even freeze, lower the worker number to avoid potential slowness/freeze if necessary.\n",
            "  cpuset_checked))\n"
          ]
        },
        {
          "output_type": "display_data",
          "data": {
            "text/plain": [
              "Predicting:   0%|          | 0/1 [00:00<?, ?it/s]"
            ],
            "application/vnd.jupyter.widget-view+json": {
              "version_major": 2,
              "version_minor": 0,
              "model_id": "eda95bb642d6459b8a6a1c69ee169946"
            }
          },
          "metadata": {}
        },
        {
          "output_type": "execute_result",
          "data": {
            "text/plain": [
              "['acid',\n",
              " 'virus',\n",
              " 'polyamino',\n",
              " 'PLO-treated',\n",
              " 'potato',\n",
              " 'KCl',\n",
              " 'poly-L-lysine',\n",
              " 'mosaic',\n",
              " 'poly-L-ornithine',\n",
              " 'tobacco',\n",
              " 'rattle',\n",
              " 'TMV',\n",
              " 'PLO']"
            ]
          },
          "metadata": {},
          "execution_count": 160
        }
      ]
    },
    {
      "cell_type": "markdown",
      "source": [
        "Copied"
      ],
      "metadata": {
        "id": "AuOCOsxnw6pU"
      }
    },
    {
      "cell_type": "code",
      "source": [
        "def isNotStopWord(word):\n",
        "    return word not in stopwords.words('english')\n",
        "\n",
        "def preprocess(sent):\n",
        "  sent = re.sub(\"[\\(\\[].*?[\\)\\]]\", \"\", sent)\n",
        "  tokens = []\n",
        "  temp = \"\"\n",
        "  words = word_tokenize(sent)\n",
        "  # Removing punctuations except '<.>/<?>/<!>'\n",
        "  punctuations = '\"#$%&\\'()*+,-/:;<=>@\\\\^_`{|}~'\n",
        "  words = map(lambda x: x.translate(str.maketrans('','',punctuations)), words)\n",
        "  \n",
        "  #Now, we remove the stopwords\n",
        "  words = map(str.lower,words)\n",
        "  words = filter(lambda x: isNotStopWord(x),words)\n",
        "  tokens = tokens + list(words)\n",
        "  temp = ' '.join(word for word in tokens)\n",
        "  return temp"
      ],
      "metadata": {
        "id": "BXbxwMTj27zy"
      },
      "execution_count": 82,
      "outputs": []
    },
    {
      "cell_type": "code",
      "source": [
        "data['preprocessed'] = data['paragraphs'].apply(lambda x: preprocess(x))"
      ],
      "metadata": {
        "id": "sI2XJRAF3GX_"
      },
      "execution_count": 86,
      "outputs": []
    },
    {
      "cell_type": "code",
      "source": [
        "def get_entity(sent):\n",
        "  ent1 = \"\" #subject entity\n",
        "  ent2 = \"\" #object entity\n",
        "\n",
        "  prev_token_text = \"\" #text from previous token\n",
        "  prev_token_dep = \"\"  #depedency from previous token\n",
        "\n",
        "  prefix = \"\"\n",
        "  modifier = \"\"\n",
        "\n",
        "  for tok in nlp(sent):\n",
        "    #Go in only if it is not a punctuation, else next word\n",
        "    if tok.dep_ != \"punct\":\n",
        "      #Check if token is a compund word\n",
        "      if tok.dep_ == \"compound\":\n",
        "        prefix = tok.text\n",
        "        #Check if previous token is also a compound\n",
        "        if prev_token_dep == \"compound\":\n",
        "          prefix = prev_token_text + \" \"+ prefix\n",
        "      #Check if token is a modifier or not\n",
        "      if tok.dep_.endswith(\"mod\")==True:\n",
        "        modifier = tok.text \n",
        "        #Check if previous token is a compound\n",
        "        if prev_token_dep == \"compound\":\n",
        "          modifier = prev_token_text + \" \" + modifier\n",
        "\n",
        "      #Checking if subject\n",
        "      if tok.dep_.find(\"subj\") == True:\n",
        "        ent1 =modifier+ \" \" + prefix + \" \" + tok.text\n",
        "        prefix = \"\"\n",
        "        modifer = \"\"\n",
        "      #Checking if object\n",
        "      if tok.dep_.find(\"obj\") == True:\n",
        "        ent2 =modifier+ \" \" + prefix + \" \" + tok.text\n",
        "        prefix = \"\"\n",
        "        modifer = \"\"\n",
        "\n",
        "      #Update variables\n",
        "      prev_token_text = tok.text\n",
        "      prev_token_dep = tok.dep_\n",
        "\n",
        "  return [ent1.strip(), ent2.strip()]"
      ],
      "metadata": {
        "id": "Z-VxM1E5wjYi"
      },
      "execution_count": 87,
      "outputs": []
    },
    {
      "cell_type": "code",
      "source": [
        "[ent1,ent2] = get_entity(\"Transductional analysis was applied to the Pseudomonas aeruginosa mutant PAO14 (hnc-1).\")\n",
        "print(\"Subj : {a}, obj : {b}\".format(a = ent1, b = ent2))\n",
        "get_entity(\"Transductional analysis was applied to the Pseudomonas aeruginosa mutant PAO14 (hnc-1).\")"
      ],
      "metadata": {
        "colab": {
          "base_uri": "https://localhost:8080/"
        },
        "id": "D3uw_bS0wkyc",
        "outputId": "36739ea7-c0e0-4c2d-ed1f-93d937ff10b5"
      },
      "execution_count": 88,
      "outputs": [
        {
          "output_type": "stream",
          "name": "stdout",
          "text": [
            "Subj : Transductional  analysis, obj : Transductional aeruginosa mutant PAO14\n"
          ]
        },
        {
          "output_type": "execute_result",
          "data": {
            "text/plain": [
              "['Transductional  analysis', 'Transductional aeruginosa mutant PAO14']"
            ]
          },
          "metadata": {},
          "execution_count": 88
        }
      ]
    },
    {
      "cell_type": "code",
      "source": [
        "data['entity_pairs']= data['preprocessed'].apply(lambda x: [get_entity(i) for i in x.split('. ')])"
      ],
      "metadata": {
        "id": "U717CvRywtTN"
      },
      "execution_count": 89,
      "outputs": []
    },
    {
      "cell_type": "code",
      "source": [
        "def get_relation(sent):\n",
        "  matcher = Matcher(nlp.vocab)\n",
        "  patterns = [[{'DEP':'ROOT'}, \n",
        "            {'DEP':'prep','OP':\"?\"},\n",
        "            {'DEP':'agent','OP':\"?\"},  \n",
        "            {'POS':'ADJ','OP':\"?\"}]]\n",
        "\n",
        "  matcher.add(\"matching_1\", patterns) \n",
        "  doc = nlp(sent)\n",
        "  matches = matcher(doc)\n",
        "  if len(matches)>0:\n",
        "    k = len(matches) - 1\n",
        "    span = doc[matches[k][1]:matches[k][2]] \n",
        "  else: return None\n",
        "  return(span.text)"
      ],
      "metadata": {
        "id": "t1tFEY9Hwt9l"
      },
      "execution_count": 90,
      "outputs": []
    },
    {
      "cell_type": "code",
      "source": [
        "get_entity(\"Transductional analysis was applied to the Pseudomonas aeruginosa mutant PAO14 (hnc-1).\"), get_relation(\"Transductional analysis was applied to the Pseudomonas aeruginosa mutant PAO14 (hnc-1).\")"
      ],
      "metadata": {
        "colab": {
          "base_uri": "https://localhost:8080/"
        },
        "id": "ZLFa80GAyk_O",
        "outputId": "6ad2a81e-820f-45ff-bcc8-e1284d749227"
      },
      "execution_count": 91,
      "outputs": [
        {
          "output_type": "execute_result",
          "data": {
            "text/plain": [
              "(['Transductional  analysis', 'Transductional aeruginosa mutant PAO14'],\n",
              " 'applied to')"
            ]
          },
          "metadata": {},
          "execution_count": 91
        }
      ]
    },
    {
      "cell_type": "code",
      "source": [
        "data['relations'] = data['preprocessed'].apply(lambda x: [get_relation(i) for i in x.split('. ')])"
      ],
      "metadata": {
        "id": "OwAP9T_dxLV-"
      },
      "execution_count": 92,
      "outputs": []
    },
    {
      "cell_type": "code",
      "source": [
        "entity_pairs = flatten(data['entity_pairs'].tolist())\n",
        "relations = flatten(data['relations'].tolist())"
      ],
      "metadata": {
        "id": "OhhPK80a18ib"
      },
      "execution_count": 93,
      "outputs": []
    },
    {
      "cell_type": "code",
      "source": [
        "subjects = [x[0] for x in entity_pairs]\n",
        "objects = [x[1] for x in entity_pairs]"
      ],
      "metadata": {
        "id": "-WupgABd2BKR"
      },
      "execution_count": 94,
      "outputs": []
    },
    {
      "cell_type": "code",
      "source": [
        "pd.Series(subjects).value_counts()[:20]"
      ],
      "metadata": {
        "colab": {
          "base_uri": "https://localhost:8080/"
        },
        "id": "SxSO0HEbyXHX",
        "outputId": "83af2470-84cf-451b-dda0-bdeaa5ce2e0a"
      },
      "execution_count": 106,
      "outputs": [
        {
          "output_type": "execute_result",
          "data": {
            "text/plain": [
              "                                          196\n",
              "results                                     6\n",
              "effects                                     3\n",
              "transductional  analysis                    2\n",
              "specific  activity                          2\n",
              "adenyl cyclase activity                     2\n",
              "antigenic  group                            2\n",
              "intravenous kcn doxapram hydrochloride      2\n",
              "findings                                    2\n",
              "authors                                     2\n",
              "cells                                       2\n",
              "activity                                    2\n",
              "enzymatic  activity                         2\n",
              "level                                       2\n",
              "receptors                                   2\n",
              "data                                        2\n",
              "values                                      2\n",
              "pentagastrin                                2\n",
              "premature  decline                          1\n",
              "recovery function                           1\n",
              "dtype: int64"
            ]
          },
          "metadata": {},
          "execution_count": 106
        }
      ]
    },
    {
      "cell_type": "code",
      "source": [
        "entity_pairs2 = entity_pairs\n",
        "relations2 = relations\n",
        "#We keep relations only for those entities whose both source and target are present\n",
        "entity_pairs3 = []\n",
        "relations3 = []\n",
        "for i in tqdm(range(len(entity_pairs2))):\n",
        "  if entity_pairs2[i][0]!='' and entity_pairs2[i][1]!='':\n",
        "    entity_pairs3.append(entity_pairs2[i])\n",
        "    relations3.append(relations2[i])\n",
        "tqdm._instances.clear()"
      ],
      "metadata": {
        "colab": {
          "base_uri": "https://localhost:8080/"
        },
        "id": "ofAPnrVW4nCS",
        "outputId": "7e376c7f-c47c-4b58-8868-a340934728c8"
      },
      "execution_count": 97,
      "outputs": [
        {
          "output_type": "stream",
          "name": "stderr",
          "text": [
            "\n",
            "100%|██████████| 824/824 [00:00<00:00, 380754.27it/s]\n"
          ]
        }
      ]
    },
    {
      "cell_type": "code",
      "source": [
        "sample_sent = 'Australia, Arginine and methionine transport by Aspergillus nidulans mycelium was investigated. A single uptake system is responsible for the transport of arginine, lysine and ornithine'\n",
        "nlp_ents = nlp(sample_sent).ents # tuple\n",
        "[str(word) for word in nlp_ents] #list of words"
      ],
      "metadata": {
        "colab": {
          "base_uri": "https://localhost:8080/"
        },
        "id": "_ssENeeZ529z",
        "outputId": "1dd21b6f-3db1-4f96-be66-5ccf72bea30c"
      },
      "execution_count": 125,
      "outputs": [
        {
          "output_type": "execute_result",
          "data": {
            "text/plain": [
              "['Australia', 'Arginine', 'Aspergillus']"
            ]
          },
          "metadata": {},
          "execution_count": 125
        }
      ]
    },
    {
      "cell_type": "code",
      "source": [
        "extract_entities_from_string(sample_sent)"
      ],
      "metadata": {
        "colab": {
          "base_uri": "https://localhost:8080/",
          "height": 171
        },
        "id": "8isrdOpf7jqu",
        "outputId": "56394fff-5b57-4a33-9263-a4f1a61af252"
      },
      "execution_count": 3,
      "outputs": [
        {
          "output_type": "error",
          "ename": "NameError",
          "evalue": "ignored",
          "traceback": [
            "\u001b[0;31m---------------------------------------------------------------------------\u001b[0m",
            "\u001b[0;31mNameError\u001b[0m                                 Traceback (most recent call last)",
            "\u001b[0;32m<ipython-input-3-68da748c6314>\u001b[0m in \u001b[0;36m<module>\u001b[0;34m()\u001b[0m\n\u001b[0;32m----> 1\u001b[0;31m \u001b[0mextract_entities_from_string\u001b[0m\u001b[0;34m(\u001b[0m\u001b[0msample_sent\u001b[0m\u001b[0;34m)\u001b[0m\u001b[0;34m\u001b[0m\u001b[0;34m\u001b[0m\u001b[0m\n\u001b[0m",
            "\u001b[0;31mNameError\u001b[0m: name 'extract_entities_from_string' is not defined"
          ]
        }
      ]
    },
    {
      "cell_type": "code",
      "source": [
        "extract_entities_from_string(entity_pairs[0][1])"
      ],
      "metadata": {
        "colab": {
          "base_uri": "https://localhost:8080/",
          "height": 171
        },
        "id": "QjokaXxPIedY",
        "outputId": "da3269b3-66b9-4271-d6a4-5cba8ce7752a"
      },
      "execution_count": 2,
      "outputs": [
        {
          "output_type": "error",
          "ename": "NameError",
          "evalue": "ignored",
          "traceback": [
            "\u001b[0;31m---------------------------------------------------------------------------\u001b[0m",
            "\u001b[0;31mNameError\u001b[0m                                 Traceback (most recent call last)",
            "\u001b[0;32m<ipython-input-2-d3c4aa12a132>\u001b[0m in \u001b[0;36m<module>\u001b[0;34m()\u001b[0m\n\u001b[0;32m----> 1\u001b[0;31m \u001b[0mextract_entities_from_string\u001b[0m\u001b[0;34m(\u001b[0m\u001b[0mentity_pairs\u001b[0m\u001b[0;34m[\u001b[0m\u001b[0;36m0\u001b[0m\u001b[0;34m]\u001b[0m\u001b[0;34m[\u001b[0m\u001b[0;36m1\u001b[0m\u001b[0;34m]\u001b[0m\u001b[0;34m)\u001b[0m\u001b[0;34m\u001b[0m\u001b[0;34m\u001b[0m\u001b[0m\n\u001b[0m",
            "\u001b[0;31mNameError\u001b[0m: name 'extract_entities_from_string' is not defined"
          ]
        }
      ]
    },
    {
      "cell_type": "code",
      "source": [
        "# Function works badly, slowly iterates though huge list. Needs to be fixed\n",
        "\n",
        "# source,target,edge = [], [], []\n",
        "\n",
        "# for i,j in enumerate(entity_pairs):\n",
        "#   #Getting the named entities for source\n",
        "#   str_source = extract_entities_from_string(entity_pairs[i][0])\n",
        "#   doc_source = ' '.join(str_source)\n",
        "#   #Getting the named entities for target\n",
        "#   str_target = extract_entities_from_string(entity_pairs[i][1])\n",
        "#   doc_target = ' '.join(str_target)\n",
        "#   if doc_source != '' or doc_target != '':\n",
        "#     edge.append(relations[i])\n",
        "#     source.append(entity_pairs[i][0])\n",
        "#     target.append(entity_pairs[i][1])"
      ],
      "metadata": {
        "id": "8nDoPbtJ4z3x"
      },
      "execution_count": 1,
      "outputs": []
    },
    {
      "cell_type": "code",
      "source": [
        "print(\"###################  Most popular source entites    ###################### \\n\",pd.Series(source).value_counts()[:10])\n",
        "print(\"###################  Most popular target entites    ###################### \\n\",pd.Series(target).value_counts()[:10])\n",
        "print(\"###################  Most popular relations         ###################### \\n\",pd.Series(relations).value_counts()[:20])"
      ],
      "metadata": {
        "id": "KTN-TAaYEmn7"
      },
      "execution_count": null,
      "outputs": []
    },
    {
      "cell_type": "markdown",
      "source": [
        "[article 1](https://swayattadaw.medium.com/building-a-small-knowledge-graph-using-ner-296930592bcf), [article 2, more complex](https://towardsdatascience.com/building-a-biomedical-knowledge-graph-2930c7e05760)"
      ],
      "metadata": {
        "id": "WdADZ1CvJBfT"
      }
    }
  ],
  "metadata": {
    "colab": {
      "name": "RD_easy_approach.ipynb",
      "provenance": [],
      "collapsed_sections": [],
      "toc_visible": true,
      "include_colab_link": true
    },
    "kernelspec": {
      "display_name": "Python 3",
      "name": "python3"
    },
    "language_info": {
      "name": "python"
    },
    "gpuClass": "standard",
    "widgets": {
      "application/vnd.jupyter.widget-state+json": {
        "c3e46ea128ab4ed5bec93e4a9a969e8e": {
          "model_module": "@jupyter-widgets/controls",
          "model_name": "HBoxModel",
          "model_module_version": "1.5.0",
          "state": {
            "_dom_classes": [],
            "_model_module": "@jupyter-widgets/controls",
            "_model_module_version": "1.5.0",
            "_model_name": "HBoxModel",
            "_view_count": null,
            "_view_module": "@jupyter-widgets/controls",
            "_view_module_version": "1.5.0",
            "_view_name": "HBoxView",
            "box_style": "",
            "children": [
              "IPY_MODEL_24a876e7011d4a639f13a45eb585de7f",
              "IPY_MODEL_1aae0a12b4ec459d9195986fa3515601",
              "IPY_MODEL_449e268ebf264b6c9846a137753d54c4"
            ],
            "layout": "IPY_MODEL_716b63a8c1dd4c51ae0f40b42a22f128"
          }
        },
        "24a876e7011d4a639f13a45eb585de7f": {
          "model_module": "@jupyter-widgets/controls",
          "model_name": "HTMLModel",
          "model_module_version": "1.5.0",
          "state": {
            "_dom_classes": [],
            "_model_module": "@jupyter-widgets/controls",
            "_model_module_version": "1.5.0",
            "_model_name": "HTMLModel",
            "_view_count": null,
            "_view_module": "@jupyter-widgets/controls",
            "_view_module_version": "1.5.0",
            "_view_name": "HTMLView",
            "description": "",
            "description_tooltip": null,
            "layout": "IPY_MODEL_9af4a6d1e7634d5cb726f8bc0d52c025",
            "placeholder": "​",
            "style": "IPY_MODEL_4b39e6aca8b74e62a47c42aaddc45833",
            "value": "Predicting: 100%"
          }
        },
        "1aae0a12b4ec459d9195986fa3515601": {
          "model_module": "@jupyter-widgets/controls",
          "model_name": "FloatProgressModel",
          "model_module_version": "1.5.0",
          "state": {
            "_dom_classes": [],
            "_model_module": "@jupyter-widgets/controls",
            "_model_module_version": "1.5.0",
            "_model_name": "FloatProgressModel",
            "_view_count": null,
            "_view_module": "@jupyter-widgets/controls",
            "_view_module_version": "1.5.0",
            "_view_name": "ProgressView",
            "bar_style": "success",
            "description": "",
            "description_tooltip": null,
            "layout": "IPY_MODEL_4b86f4730a104bf78e6a3bfa3b6742f0",
            "max": 7,
            "min": 0,
            "orientation": "horizontal",
            "style": "IPY_MODEL_ca8de3917ad2425fa6c3d19553b059c5",
            "value": 7
          }
        },
        "449e268ebf264b6c9846a137753d54c4": {
          "model_module": "@jupyter-widgets/controls",
          "model_name": "HTMLModel",
          "model_module_version": "1.5.0",
          "state": {
            "_dom_classes": [],
            "_model_module": "@jupyter-widgets/controls",
            "_model_module_version": "1.5.0",
            "_model_name": "HTMLModel",
            "_view_count": null,
            "_view_module": "@jupyter-widgets/controls",
            "_view_module_version": "1.5.0",
            "_view_name": "HTMLView",
            "description": "",
            "description_tooltip": null,
            "layout": "IPY_MODEL_163751a4bc3845e188e2c2f2f71096e4",
            "placeholder": "​",
            "style": "IPY_MODEL_0658f3545ba74458bae50cafae232215",
            "value": " 7/7 [01:41&lt;00:00, 12.22s/it]"
          }
        },
        "716b63a8c1dd4c51ae0f40b42a22f128": {
          "model_module": "@jupyter-widgets/base",
          "model_name": "LayoutModel",
          "model_module_version": "1.2.0",
          "state": {
            "_model_module": "@jupyter-widgets/base",
            "_model_module_version": "1.2.0",
            "_model_name": "LayoutModel",
            "_view_count": null,
            "_view_module": "@jupyter-widgets/base",
            "_view_module_version": "1.2.0",
            "_view_name": "LayoutView",
            "align_content": null,
            "align_items": null,
            "align_self": null,
            "border": null,
            "bottom": null,
            "display": null,
            "flex": null,
            "flex_flow": null,
            "grid_area": null,
            "grid_auto_columns": null,
            "grid_auto_flow": null,
            "grid_auto_rows": null,
            "grid_column": null,
            "grid_gap": null,
            "grid_row": null,
            "grid_template_areas": null,
            "grid_template_columns": null,
            "grid_template_rows": null,
            "height": null,
            "justify_content": null,
            "justify_items": null,
            "left": null,
            "margin": null,
            "max_height": null,
            "max_width": null,
            "min_height": null,
            "min_width": null,
            "object_fit": null,
            "object_position": null,
            "order": null,
            "overflow": null,
            "overflow_x": null,
            "overflow_y": null,
            "padding": null,
            "right": null,
            "top": null,
            "visibility": null,
            "width": null
          }
        },
        "9af4a6d1e7634d5cb726f8bc0d52c025": {
          "model_module": "@jupyter-widgets/base",
          "model_name": "LayoutModel",
          "model_module_version": "1.2.0",
          "state": {
            "_model_module": "@jupyter-widgets/base",
            "_model_module_version": "1.2.0",
            "_model_name": "LayoutModel",
            "_view_count": null,
            "_view_module": "@jupyter-widgets/base",
            "_view_module_version": "1.2.0",
            "_view_name": "LayoutView",
            "align_content": null,
            "align_items": null,
            "align_self": null,
            "border": null,
            "bottom": null,
            "display": null,
            "flex": null,
            "flex_flow": null,
            "grid_area": null,
            "grid_auto_columns": null,
            "grid_auto_flow": null,
            "grid_auto_rows": null,
            "grid_column": null,
            "grid_gap": null,
            "grid_row": null,
            "grid_template_areas": null,
            "grid_template_columns": null,
            "grid_template_rows": null,
            "height": null,
            "justify_content": null,
            "justify_items": null,
            "left": null,
            "margin": null,
            "max_height": null,
            "max_width": null,
            "min_height": null,
            "min_width": null,
            "object_fit": null,
            "object_position": null,
            "order": null,
            "overflow": null,
            "overflow_x": null,
            "overflow_y": null,
            "padding": null,
            "right": null,
            "top": null,
            "visibility": null,
            "width": null
          }
        },
        "4b39e6aca8b74e62a47c42aaddc45833": {
          "model_module": "@jupyter-widgets/controls",
          "model_name": "DescriptionStyleModel",
          "model_module_version": "1.5.0",
          "state": {
            "_model_module": "@jupyter-widgets/controls",
            "_model_module_version": "1.5.0",
            "_model_name": "DescriptionStyleModel",
            "_view_count": null,
            "_view_module": "@jupyter-widgets/base",
            "_view_module_version": "1.2.0",
            "_view_name": "StyleView",
            "description_width": ""
          }
        },
        "4b86f4730a104bf78e6a3bfa3b6742f0": {
          "model_module": "@jupyter-widgets/base",
          "model_name": "LayoutModel",
          "model_module_version": "1.2.0",
          "state": {
            "_model_module": "@jupyter-widgets/base",
            "_model_module_version": "1.2.0",
            "_model_name": "LayoutModel",
            "_view_count": null,
            "_view_module": "@jupyter-widgets/base",
            "_view_module_version": "1.2.0",
            "_view_name": "LayoutView",
            "align_content": null,
            "align_items": null,
            "align_self": null,
            "border": null,
            "bottom": null,
            "display": null,
            "flex": null,
            "flex_flow": null,
            "grid_area": null,
            "grid_auto_columns": null,
            "grid_auto_flow": null,
            "grid_auto_rows": null,
            "grid_column": null,
            "grid_gap": null,
            "grid_row": null,
            "grid_template_areas": null,
            "grid_template_columns": null,
            "grid_template_rows": null,
            "height": null,
            "justify_content": null,
            "justify_items": null,
            "left": null,
            "margin": null,
            "max_height": null,
            "max_width": null,
            "min_height": null,
            "min_width": null,
            "object_fit": null,
            "object_position": null,
            "order": null,
            "overflow": null,
            "overflow_x": null,
            "overflow_y": null,
            "padding": null,
            "right": null,
            "top": null,
            "visibility": null,
            "width": null
          }
        },
        "ca8de3917ad2425fa6c3d19553b059c5": {
          "model_module": "@jupyter-widgets/controls",
          "model_name": "ProgressStyleModel",
          "model_module_version": "1.5.0",
          "state": {
            "_model_module": "@jupyter-widgets/controls",
            "_model_module_version": "1.5.0",
            "_model_name": "ProgressStyleModel",
            "_view_count": null,
            "_view_module": "@jupyter-widgets/base",
            "_view_module_version": "1.2.0",
            "_view_name": "StyleView",
            "bar_color": null,
            "description_width": ""
          }
        },
        "163751a4bc3845e188e2c2f2f71096e4": {
          "model_module": "@jupyter-widgets/base",
          "model_name": "LayoutModel",
          "model_module_version": "1.2.0",
          "state": {
            "_model_module": "@jupyter-widgets/base",
            "_model_module_version": "1.2.0",
            "_model_name": "LayoutModel",
            "_view_count": null,
            "_view_module": "@jupyter-widgets/base",
            "_view_module_version": "1.2.0",
            "_view_name": "LayoutView",
            "align_content": null,
            "align_items": null,
            "align_self": null,
            "border": null,
            "bottom": null,
            "display": null,
            "flex": null,
            "flex_flow": null,
            "grid_area": null,
            "grid_auto_columns": null,
            "grid_auto_flow": null,
            "grid_auto_rows": null,
            "grid_column": null,
            "grid_gap": null,
            "grid_row": null,
            "grid_template_areas": null,
            "grid_template_columns": null,
            "grid_template_rows": null,
            "height": null,
            "justify_content": null,
            "justify_items": null,
            "left": null,
            "margin": null,
            "max_height": null,
            "max_width": null,
            "min_height": null,
            "min_width": null,
            "object_fit": null,
            "object_position": null,
            "order": null,
            "overflow": null,
            "overflow_x": null,
            "overflow_y": null,
            "padding": null,
            "right": null,
            "top": null,
            "visibility": null,
            "width": null
          }
        },
        "0658f3545ba74458bae50cafae232215": {
          "model_module": "@jupyter-widgets/controls",
          "model_name": "DescriptionStyleModel",
          "model_module_version": "1.5.0",
          "state": {
            "_model_module": "@jupyter-widgets/controls",
            "_model_module_version": "1.5.0",
            "_model_name": "DescriptionStyleModel",
            "_view_count": null,
            "_view_module": "@jupyter-widgets/base",
            "_view_module_version": "1.2.0",
            "_view_name": "StyleView",
            "description_width": ""
          }
        },
        "eda95bb642d6459b8a6a1c69ee169946": {
          "model_module": "@jupyter-widgets/controls",
          "model_name": "HBoxModel",
          "model_module_version": "1.5.0",
          "state": {
            "_dom_classes": [],
            "_model_module": "@jupyter-widgets/controls",
            "_model_module_version": "1.5.0",
            "_model_name": "HBoxModel",
            "_view_count": null,
            "_view_module": "@jupyter-widgets/controls",
            "_view_module_version": "1.5.0",
            "_view_name": "HBoxView",
            "box_style": "",
            "children": [
              "IPY_MODEL_235176a33462423dab6af25ae00fa8da",
              "IPY_MODEL_a57adffaccab47e6aff06bcd2b6f7e03",
              "IPY_MODEL_474604dc5774415db2c86ad599ae1aec"
            ],
            "layout": "IPY_MODEL_42d09d66033040a9a4eaa28d9c0d9aba"
          }
        },
        "235176a33462423dab6af25ae00fa8da": {
          "model_module": "@jupyter-widgets/controls",
          "model_name": "HTMLModel",
          "model_module_version": "1.5.0",
          "state": {
            "_dom_classes": [],
            "_model_module": "@jupyter-widgets/controls",
            "_model_module_version": "1.5.0",
            "_model_name": "HTMLModel",
            "_view_count": null,
            "_view_module": "@jupyter-widgets/controls",
            "_view_module_version": "1.5.0",
            "_view_name": "HTMLView",
            "description": "",
            "description_tooltip": null,
            "layout": "IPY_MODEL_8fd49de9a890405db6319500391e0ed4",
            "placeholder": "​",
            "style": "IPY_MODEL_f717f950af3347d5a8b571e7a2e365e7",
            "value": "Predicting: 100%"
          }
        },
        "a57adffaccab47e6aff06bcd2b6f7e03": {
          "model_module": "@jupyter-widgets/controls",
          "model_name": "FloatProgressModel",
          "model_module_version": "1.5.0",
          "state": {
            "_dom_classes": [],
            "_model_module": "@jupyter-widgets/controls",
            "_model_module_version": "1.5.0",
            "_model_name": "FloatProgressModel",
            "_view_count": null,
            "_view_module": "@jupyter-widgets/controls",
            "_view_module_version": "1.5.0",
            "_view_name": "ProgressView",
            "bar_style": "success",
            "description": "",
            "description_tooltip": null,
            "layout": "IPY_MODEL_b748fea5758f482d8600e3ab50dd91dc",
            "max": 1,
            "min": 0,
            "orientation": "horizontal",
            "style": "IPY_MODEL_923a4821d9ef4c85a16d1e9ad3648e6a",
            "value": 1
          }
        },
        "474604dc5774415db2c86ad599ae1aec": {
          "model_module": "@jupyter-widgets/controls",
          "model_name": "HTMLModel",
          "model_module_version": "1.5.0",
          "state": {
            "_dom_classes": [],
            "_model_module": "@jupyter-widgets/controls",
            "_model_module_version": "1.5.0",
            "_model_name": "HTMLModel",
            "_view_count": null,
            "_view_module": "@jupyter-widgets/controls",
            "_view_module_version": "1.5.0",
            "_view_name": "HTMLView",
            "description": "",
            "description_tooltip": null,
            "layout": "IPY_MODEL_91bc215e153e425b9978e40b18504eb0",
            "placeholder": "​",
            "style": "IPY_MODEL_5d488fe00c4f4f2bb6017a2f787aed00",
            "value": " 1/1 [00:01&lt;00:00,  1.60s/it]"
          }
        },
        "42d09d66033040a9a4eaa28d9c0d9aba": {
          "model_module": "@jupyter-widgets/base",
          "model_name": "LayoutModel",
          "model_module_version": "1.2.0",
          "state": {
            "_model_module": "@jupyter-widgets/base",
            "_model_module_version": "1.2.0",
            "_model_name": "LayoutModel",
            "_view_count": null,
            "_view_module": "@jupyter-widgets/base",
            "_view_module_version": "1.2.0",
            "_view_name": "LayoutView",
            "align_content": null,
            "align_items": null,
            "align_self": null,
            "border": null,
            "bottom": null,
            "display": null,
            "flex": null,
            "flex_flow": null,
            "grid_area": null,
            "grid_auto_columns": null,
            "grid_auto_flow": null,
            "grid_auto_rows": null,
            "grid_column": null,
            "grid_gap": null,
            "grid_row": null,
            "grid_template_areas": null,
            "grid_template_columns": null,
            "grid_template_rows": null,
            "height": null,
            "justify_content": null,
            "justify_items": null,
            "left": null,
            "margin": null,
            "max_height": null,
            "max_width": null,
            "min_height": null,
            "min_width": null,
            "object_fit": null,
            "object_position": null,
            "order": null,
            "overflow": null,
            "overflow_x": null,
            "overflow_y": null,
            "padding": null,
            "right": null,
            "top": null,
            "visibility": null,
            "width": null
          }
        },
        "8fd49de9a890405db6319500391e0ed4": {
          "model_module": "@jupyter-widgets/base",
          "model_name": "LayoutModel",
          "model_module_version": "1.2.0",
          "state": {
            "_model_module": "@jupyter-widgets/base",
            "_model_module_version": "1.2.0",
            "_model_name": "LayoutModel",
            "_view_count": null,
            "_view_module": "@jupyter-widgets/base",
            "_view_module_version": "1.2.0",
            "_view_name": "LayoutView",
            "align_content": null,
            "align_items": null,
            "align_self": null,
            "border": null,
            "bottom": null,
            "display": null,
            "flex": null,
            "flex_flow": null,
            "grid_area": null,
            "grid_auto_columns": null,
            "grid_auto_flow": null,
            "grid_auto_rows": null,
            "grid_column": null,
            "grid_gap": null,
            "grid_row": null,
            "grid_template_areas": null,
            "grid_template_columns": null,
            "grid_template_rows": null,
            "height": null,
            "justify_content": null,
            "justify_items": null,
            "left": null,
            "margin": null,
            "max_height": null,
            "max_width": null,
            "min_height": null,
            "min_width": null,
            "object_fit": null,
            "object_position": null,
            "order": null,
            "overflow": null,
            "overflow_x": null,
            "overflow_y": null,
            "padding": null,
            "right": null,
            "top": null,
            "visibility": null,
            "width": null
          }
        },
        "f717f950af3347d5a8b571e7a2e365e7": {
          "model_module": "@jupyter-widgets/controls",
          "model_name": "DescriptionStyleModel",
          "model_module_version": "1.5.0",
          "state": {
            "_model_module": "@jupyter-widgets/controls",
            "_model_module_version": "1.5.0",
            "_model_name": "DescriptionStyleModel",
            "_view_count": null,
            "_view_module": "@jupyter-widgets/base",
            "_view_module_version": "1.2.0",
            "_view_name": "StyleView",
            "description_width": ""
          }
        },
        "b748fea5758f482d8600e3ab50dd91dc": {
          "model_module": "@jupyter-widgets/base",
          "model_name": "LayoutModel",
          "model_module_version": "1.2.0",
          "state": {
            "_model_module": "@jupyter-widgets/base",
            "_model_module_version": "1.2.0",
            "_model_name": "LayoutModel",
            "_view_count": null,
            "_view_module": "@jupyter-widgets/base",
            "_view_module_version": "1.2.0",
            "_view_name": "LayoutView",
            "align_content": null,
            "align_items": null,
            "align_self": null,
            "border": null,
            "bottom": null,
            "display": null,
            "flex": null,
            "flex_flow": null,
            "grid_area": null,
            "grid_auto_columns": null,
            "grid_auto_flow": null,
            "grid_auto_rows": null,
            "grid_column": null,
            "grid_gap": null,
            "grid_row": null,
            "grid_template_areas": null,
            "grid_template_columns": null,
            "grid_template_rows": null,
            "height": null,
            "justify_content": null,
            "justify_items": null,
            "left": null,
            "margin": null,
            "max_height": null,
            "max_width": null,
            "min_height": null,
            "min_width": null,
            "object_fit": null,
            "object_position": null,
            "order": null,
            "overflow": null,
            "overflow_x": null,
            "overflow_y": null,
            "padding": null,
            "right": null,
            "top": null,
            "visibility": null,
            "width": null
          }
        },
        "923a4821d9ef4c85a16d1e9ad3648e6a": {
          "model_module": "@jupyter-widgets/controls",
          "model_name": "ProgressStyleModel",
          "model_module_version": "1.5.0",
          "state": {
            "_model_module": "@jupyter-widgets/controls",
            "_model_module_version": "1.5.0",
            "_model_name": "ProgressStyleModel",
            "_view_count": null,
            "_view_module": "@jupyter-widgets/base",
            "_view_module_version": "1.2.0",
            "_view_name": "StyleView",
            "bar_color": null,
            "description_width": ""
          }
        },
        "91bc215e153e425b9978e40b18504eb0": {
          "model_module": "@jupyter-widgets/base",
          "model_name": "LayoutModel",
          "model_module_version": "1.2.0",
          "state": {
            "_model_module": "@jupyter-widgets/base",
            "_model_module_version": "1.2.0",
            "_model_name": "LayoutModel",
            "_view_count": null,
            "_view_module": "@jupyter-widgets/base",
            "_view_module_version": "1.2.0",
            "_view_name": "LayoutView",
            "align_content": null,
            "align_items": null,
            "align_self": null,
            "border": null,
            "bottom": null,
            "display": null,
            "flex": null,
            "flex_flow": null,
            "grid_area": null,
            "grid_auto_columns": null,
            "grid_auto_flow": null,
            "grid_auto_rows": null,
            "grid_column": null,
            "grid_gap": null,
            "grid_row": null,
            "grid_template_areas": null,
            "grid_template_columns": null,
            "grid_template_rows": null,
            "height": null,
            "justify_content": null,
            "justify_items": null,
            "left": null,
            "margin": null,
            "max_height": null,
            "max_width": null,
            "min_height": null,
            "min_width": null,
            "object_fit": null,
            "object_position": null,
            "order": null,
            "overflow": null,
            "overflow_x": null,
            "overflow_y": null,
            "padding": null,
            "right": null,
            "top": null,
            "visibility": null,
            "width": null
          }
        },
        "5d488fe00c4f4f2bb6017a2f787aed00": {
          "model_module": "@jupyter-widgets/controls",
          "model_name": "DescriptionStyleModel",
          "model_module_version": "1.5.0",
          "state": {
            "_model_module": "@jupyter-widgets/controls",
            "_model_module_version": "1.5.0",
            "_model_name": "DescriptionStyleModel",
            "_view_count": null,
            "_view_module": "@jupyter-widgets/base",
            "_view_module_version": "1.2.0",
            "_view_name": "StyleView",
            "description_width": ""
          }
        }
      }
    }
  },
  "nbformat": 4,
  "nbformat_minor": 0
}