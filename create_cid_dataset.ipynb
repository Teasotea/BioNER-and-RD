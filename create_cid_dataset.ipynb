{
  "cells": [
    {
      "cell_type": "markdown",
      "metadata": {
        "id": "view-in-github",
        "colab_type": "text"
      },
      "source": [
        "<a href=\"https://colab.research.google.com/github/Teasotea/BioNER-and-RD/blob/main/create_cid_dataset.ipynb\" target=\"_parent\"><img src=\"https://colab.research.google.com/assets/colab-badge.svg\" alt=\"Open In Colab\"/></a>"
      ]
    },
    {
      "cell_type": "markdown",
      "metadata": {
        "id": "c31Qw3Q_n6k7"
      },
      "source": [
        "# Import Libraries"
      ]
    },
    {
      "cell_type": "code",
      "execution_count": 1,
      "metadata": {
        "id": "daVLY667npQW"
      },
      "outputs": [],
      "source": [
        "import numpy as np\n",
        "import pandas as pd\n",
        "import matplotlib.pyplot as plt\n",
        "import re"
      ]
    },
    {
      "cell_type": "code",
      "source": [
        "import nltk\n",
        "from nltk.tokenize import TreebankWordTokenizer as twt\n",
        "from nltk.tokenize import sent_tokenize, word_tokenize\n",
        "nltk.download('punkt')"
      ],
      "metadata": {
        "colab": {
          "base_uri": "https://localhost:8080/"
        },
        "id": "om1_HgEPmoO2",
        "outputId": "27c3b8d2-32f0-4ba4-fcd7-1382491eb5c9"
      },
      "execution_count": 2,
      "outputs": [
        {
          "output_type": "stream",
          "name": "stderr",
          "text": [
            "[nltk_data] Downloading package punkt to /root/nltk_data...\n",
            "[nltk_data]   Unzipping tokenizers/punkt.zip.\n"
          ]
        },
        {
          "output_type": "execute_result",
          "data": {
            "text/plain": [
              "True"
            ]
          },
          "metadata": {},
          "execution_count": 2
        }
      ]
    },
    {
      "cell_type": "markdown",
      "source": [
        "# Load Data"
      ],
      "metadata": {
        "id": "WXFSDJb8IHbl"
      }
    },
    {
      "cell_type": "code",
      "execution_count": 3,
      "metadata": {
        "id": "E8bT9Pq9RPPX"
      },
      "outputs": [],
      "source": [
        "with open('/content/data0.txt') as f:\n",
        "      eval_article = f.read()"
      ]
    },
    {
      "cell_type": "code",
      "execution_count": 4,
      "metadata": {
        "id": "-Ucls65AQ6JR"
      },
      "outputs": [],
      "source": [
        "train_df = pd.read_csv('/content/cdr_dner_train_df.csv')\n",
        "test_df = pd.read_csv('/content/cdr_dner_test_df.csv')\n",
        "dev_df = pd.read_csv('/content/cdr_dner_dev_df.csv')\n"
      ]
    },
    {
      "cell_type": "code",
      "execution_count": 5,
      "metadata": {
        "id": "4cllAaK0S1Ez"
      },
      "outputs": [],
      "source": [
        "CID_train_df = train_df[train_df['xloc'] == \"CID\"].reset_index(drop=True)\n",
        "DNER_train_df = train_df[train_df['xloc'] != \"CID\"].reset_index(drop=True)\n",
        "\n",
        "CID_test_df = test_df[test_df['xloc'] == \"CID\"].reset_index(drop=True)\n",
        "DNER_test_df = test_df[test_df['xloc'] != \"CID\"].reset_index(drop=True)\n",
        "\n",
        "CID_dev_df = dev_df[dev_df['xloc'] == \"CID\"].reset_index(drop=True)\n",
        "DNER_dev_df = dev_df[dev_df['xloc'] != \"CID\"].reset_index(drop=True)"
      ]
    },
    {
      "cell_type": "markdown",
      "source": [
        "# CID Dataset"
      ],
      "metadata": {
        "id": "dOr88PmU2htX"
      }
    },
    {
      "cell_type": "code",
      "source": [
        "CID_train_df[\"text\"] = CID_train_df.apply(lambda x: x['title_source_text']+ ' '+x['source_text'], axis = 1)\n",
        "CID_test_df[\"text\"] = CID_test_df.apply(lambda x: x['title_source_text']+ ' '+x['source_text'], axis = 1)\n",
        "CID_dev_df[\"text\"] = CID_dev_df.apply(lambda x: x['title_source_text']+ ' '+x['source_text'], axis = 1)\n",
        "\n",
        "CID_train_df = CID_train_df.drop(columns = ['entity', 'name_id', 'title_source_text', 'source_text', 'xloc'])\n",
        "CID_test_df = CID_test_df.drop(columns = ['entity', 'name_id', 'title_source_text', 'source_text', 'xloc'])\n",
        "CID_dev_df = CID_dev_df.drop(columns = ['entity', 'name_id', 'title_source_text', 'source_text', 'xloc'])\n"
      ],
      "metadata": {
        "id": "mN-puKeJ2lhc"
      },
      "execution_count": 6,
      "outputs": []
    },
    {
      "cell_type": "code",
      "source": [
        "CID_train_df = CID_train_df[CID_train_df['name'].str.startswith('D') & CID_train_df['yloc'].str.startswith('D')].rename(columns = {'yloc':'w1', 'name':'w2'})\n",
        "CID_test_df = CID_test_df[CID_test_df['name'].str.startswith('D') & CID_test_df['yloc'].str.startswith('D')].rename(columns = {'yloc':'w1', 'name':'w2'})\n",
        "CID_dev_df = CID_dev_df[CID_dev_df['name'].str.startswith('D') & CID_dev_df['yloc'].str.startswith('D')].rename(columns = {'yloc':'w1', 'name':'w2'})"
      ],
      "metadata": {
        "id": "Dgcr1rcZ2oTa"
      },
      "execution_count": 7,
      "outputs": []
    },
    {
      "cell_type": "code",
      "source": [
        "CID_train_df.head()"
      ],
      "metadata": {
        "colab": {
          "base_uri": "https://localhost:8080/",
          "height": 206
        },
        "id": "oPesp01x2qzK",
        "outputId": "bc750706-665a-4c9f-c3bd-bb73330b2e0b"
      },
      "execution_count": 8,
      "outputs": [
        {
          "output_type": "execute_result",
          "data": {
            "text/plain": [
              "   text_id       w1       w2  \\\n",
              "0   354896  D008012  D006323   \n",
              "1   435349  D013390  D005207   \n",
              "2   603022  D012601  D062787   \n",
              "3  1378968  D008094  D006973   \n",
              "4  1378968  D008094  D011507   \n",
              "\n",
              "                                                text  \n",
              "0  Lidocaine-induced cardiac asystole. Intravenou...  \n",
              "1  Suxamethonium infusion rate and observed fasci...  \n",
              "2  Galanthamine hydrobromide, a longer acting ant...  \n",
              "3  Effects of uninephrectomy and high protein fee...  \n",
              "4  Effects of uninephrectomy and high protein fee...  "
            ],
            "text/html": [
              "\n",
              "  <div id=\"df-715f2412-840a-48f0-8511-ff7b284952eb\">\n",
              "    <div class=\"colab-df-container\">\n",
              "      <div>\n",
              "<style scoped>\n",
              "    .dataframe tbody tr th:only-of-type {\n",
              "        vertical-align: middle;\n",
              "    }\n",
              "\n",
              "    .dataframe tbody tr th {\n",
              "        vertical-align: top;\n",
              "    }\n",
              "\n",
              "    .dataframe thead th {\n",
              "        text-align: right;\n",
              "    }\n",
              "</style>\n",
              "<table border=\"1\" class=\"dataframe\">\n",
              "  <thead>\n",
              "    <tr style=\"text-align: right;\">\n",
              "      <th></th>\n",
              "      <th>text_id</th>\n",
              "      <th>w1</th>\n",
              "      <th>w2</th>\n",
              "      <th>text</th>\n",
              "    </tr>\n",
              "  </thead>\n",
              "  <tbody>\n",
              "    <tr>\n",
              "      <th>0</th>\n",
              "      <td>354896</td>\n",
              "      <td>D008012</td>\n",
              "      <td>D006323</td>\n",
              "      <td>Lidocaine-induced cardiac asystole. Intravenou...</td>\n",
              "    </tr>\n",
              "    <tr>\n",
              "      <th>1</th>\n",
              "      <td>435349</td>\n",
              "      <td>D013390</td>\n",
              "      <td>D005207</td>\n",
              "      <td>Suxamethonium infusion rate and observed fasci...</td>\n",
              "    </tr>\n",
              "    <tr>\n",
              "      <th>2</th>\n",
              "      <td>603022</td>\n",
              "      <td>D012601</td>\n",
              "      <td>D062787</td>\n",
              "      <td>Galanthamine hydrobromide, a longer acting ant...</td>\n",
              "    </tr>\n",
              "    <tr>\n",
              "      <th>3</th>\n",
              "      <td>1378968</td>\n",
              "      <td>D008094</td>\n",
              "      <td>D006973</td>\n",
              "      <td>Effects of uninephrectomy and high protein fee...</td>\n",
              "    </tr>\n",
              "    <tr>\n",
              "      <th>4</th>\n",
              "      <td>1378968</td>\n",
              "      <td>D008094</td>\n",
              "      <td>D011507</td>\n",
              "      <td>Effects of uninephrectomy and high protein fee...</td>\n",
              "    </tr>\n",
              "  </tbody>\n",
              "</table>\n",
              "</div>\n",
              "      <button class=\"colab-df-convert\" onclick=\"convertToInteractive('df-715f2412-840a-48f0-8511-ff7b284952eb')\"\n",
              "              title=\"Convert this dataframe to an interactive table.\"\n",
              "              style=\"display:none;\">\n",
              "        \n",
              "  <svg xmlns=\"http://www.w3.org/2000/svg\" height=\"24px\"viewBox=\"0 0 24 24\"\n",
              "       width=\"24px\">\n",
              "    <path d=\"M0 0h24v24H0V0z\" fill=\"none\"/>\n",
              "    <path d=\"M18.56 5.44l.94 2.06.94-2.06 2.06-.94-2.06-.94-.94-2.06-.94 2.06-2.06.94zm-11 1L8.5 8.5l.94-2.06 2.06-.94-2.06-.94L8.5 2.5l-.94 2.06-2.06.94zm10 10l.94 2.06.94-2.06 2.06-.94-2.06-.94-.94-2.06-.94 2.06-2.06.94z\"/><path d=\"M17.41 7.96l-1.37-1.37c-.4-.4-.92-.59-1.43-.59-.52 0-1.04.2-1.43.59L10.3 9.45l-7.72 7.72c-.78.78-.78 2.05 0 2.83L4 21.41c.39.39.9.59 1.41.59.51 0 1.02-.2 1.41-.59l7.78-7.78 2.81-2.81c.8-.78.8-2.07 0-2.86zM5.41 20L4 18.59l7.72-7.72 1.47 1.35L5.41 20z\"/>\n",
              "  </svg>\n",
              "      </button>\n",
              "      \n",
              "  <style>\n",
              "    .colab-df-container {\n",
              "      display:flex;\n",
              "      flex-wrap:wrap;\n",
              "      gap: 12px;\n",
              "    }\n",
              "\n",
              "    .colab-df-convert {\n",
              "      background-color: #E8F0FE;\n",
              "      border: none;\n",
              "      border-radius: 50%;\n",
              "      cursor: pointer;\n",
              "      display: none;\n",
              "      fill: #1967D2;\n",
              "      height: 32px;\n",
              "      padding: 0 0 0 0;\n",
              "      width: 32px;\n",
              "    }\n",
              "\n",
              "    .colab-df-convert:hover {\n",
              "      background-color: #E2EBFA;\n",
              "      box-shadow: 0px 1px 2px rgba(60, 64, 67, 0.3), 0px 1px 3px 1px rgba(60, 64, 67, 0.15);\n",
              "      fill: #174EA6;\n",
              "    }\n",
              "\n",
              "    [theme=dark] .colab-df-convert {\n",
              "      background-color: #3B4455;\n",
              "      fill: #D2E3FC;\n",
              "    }\n",
              "\n",
              "    [theme=dark] .colab-df-convert:hover {\n",
              "      background-color: #434B5C;\n",
              "      box-shadow: 0px 1px 3px 1px rgba(0, 0, 0, 0.15);\n",
              "      filter: drop-shadow(0px 1px 2px rgba(0, 0, 0, 0.3));\n",
              "      fill: #FFFFFF;\n",
              "    }\n",
              "  </style>\n",
              "\n",
              "      <script>\n",
              "        const buttonEl =\n",
              "          document.querySelector('#df-715f2412-840a-48f0-8511-ff7b284952eb button.colab-df-convert');\n",
              "        buttonEl.style.display =\n",
              "          google.colab.kernel.accessAllowed ? 'block' : 'none';\n",
              "\n",
              "        async function convertToInteractive(key) {\n",
              "          const element = document.querySelector('#df-715f2412-840a-48f0-8511-ff7b284952eb');\n",
              "          const dataTable =\n",
              "            await google.colab.kernel.invokeFunction('convertToInteractive',\n",
              "                                                     [key], {});\n",
              "          if (!dataTable) return;\n",
              "\n",
              "          const docLinkHtml = 'Like what you see? Visit the ' +\n",
              "            '<a target=\"_blank\" href=https://colab.research.google.com/notebooks/data_table.ipynb>data table notebook</a>'\n",
              "            + ' to learn more about interactive tables.';\n",
              "          element.innerHTML = '';\n",
              "          dataTable['output_type'] = 'display_data';\n",
              "          await google.colab.output.renderOutput(dataTable, element);\n",
              "          const docLink = document.createElement('div');\n",
              "          docLink.innerHTML = docLinkHtml;\n",
              "          element.appendChild(docLink);\n",
              "        }\n",
              "      </script>\n",
              "    </div>\n",
              "  </div>\n",
              "  "
            ]
          },
          "metadata": {},
          "execution_count": 8
        }
      ]
    },
    {
      "cell_type": "code",
      "source": [
        "def prepr_df(df, df2):\n",
        "  nameid_df = df[['name','entity', 'name_id']]\n",
        "  nameid_df = nameid_df[nameid_df['name_id'].str.contains('D', na=False)]\n",
        "  nameid_df[\"name_entity\"] = nameid_df.apply(lambda x: {x[\"name\"]: x[\"entity\"]},axis=1)\n",
        "  nameid_df = nameid_df.drop(columns=['name', 'entity'])\n",
        "  nameid_df.set_index('name_id', inplace=True)\n",
        "  final_df = df2.replace({\"w1\": nameid_df.squeeze().to_dict(), \"w2\": nameid_df.squeeze().to_dict()})\n",
        "  return final_df"
      ],
      "metadata": {
        "id": "z06XS9cHR8e6"
      },
      "execution_count": 54,
      "outputs": []
    },
    {
      "cell_type": "code",
      "source": [
        "train_cid= prepr_df(DNER_train_df, CID_train_df)\n",
        "test_cid = prepr_df(DNER_test_df, CID_test_df)\n",
        "dev_cid = prepr_df(DNER_dev_df, CID_dev_df)"
      ],
      "metadata": {
        "id": "WWi5EK8pTQpx"
      },
      "execution_count": 55,
      "outputs": []
    },
    {
      "cell_type": "code",
      "source": [
        "train_cid.head()"
      ],
      "metadata": {
        "colab": {
          "base_uri": "https://localhost:8080/",
          "height": 206
        },
        "id": "UMRtSzTMUYz9",
        "outputId": "956e6a00-0eef-4718-c00a-2fc6c08d1a8b"
      },
      "execution_count": 56,
      "outputs": [
        {
          "output_type": "execute_result",
          "data": {
            "text/plain": [
              "   text_id                             w1                             w2  \\\n",
              "0   354896      {'lidocaine': 'Chemical'}  {'cardiac arrest': 'Disease'}   \n",
              "1   435349  {'Suxamethonium': 'Chemical'}   {'fasciculation': 'Disease'}   \n",
              "2   603022    {'scopolamine': 'Chemical'}        {'overdose': 'Disease'}   \n",
              "3  1378968        {'lithium': 'Chemical'}    {'hypertension': 'Disease'}   \n",
              "4  1378968        {'lithium': 'Chemical'}     {'proteinuria': 'Disease'}   \n",
              "\n",
              "                                                text  \n",
              "0  Lidocaine-induced cardiac asystole. Intravenou...  \n",
              "1  Suxamethonium infusion rate and observed fasci...  \n",
              "2  Galanthamine hydrobromide, a longer acting ant...  \n",
              "3  Effects of uninephrectomy and high protein fee...  \n",
              "4  Effects of uninephrectomy and high protein fee...  "
            ],
            "text/html": [
              "\n",
              "  <div id=\"df-a3d782b5-9e0a-45b0-b938-c8edd3e80050\">\n",
              "    <div class=\"colab-df-container\">\n",
              "      <div>\n",
              "<style scoped>\n",
              "    .dataframe tbody tr th:only-of-type {\n",
              "        vertical-align: middle;\n",
              "    }\n",
              "\n",
              "    .dataframe tbody tr th {\n",
              "        vertical-align: top;\n",
              "    }\n",
              "\n",
              "    .dataframe thead th {\n",
              "        text-align: right;\n",
              "    }\n",
              "</style>\n",
              "<table border=\"1\" class=\"dataframe\">\n",
              "  <thead>\n",
              "    <tr style=\"text-align: right;\">\n",
              "      <th></th>\n",
              "      <th>text_id</th>\n",
              "      <th>w1</th>\n",
              "      <th>w2</th>\n",
              "      <th>text</th>\n",
              "    </tr>\n",
              "  </thead>\n",
              "  <tbody>\n",
              "    <tr>\n",
              "      <th>0</th>\n",
              "      <td>354896</td>\n",
              "      <td>{'lidocaine': 'Chemical'}</td>\n",
              "      <td>{'cardiac arrest': 'Disease'}</td>\n",
              "      <td>Lidocaine-induced cardiac asystole. Intravenou...</td>\n",
              "    </tr>\n",
              "    <tr>\n",
              "      <th>1</th>\n",
              "      <td>435349</td>\n",
              "      <td>{'Suxamethonium': 'Chemical'}</td>\n",
              "      <td>{'fasciculation': 'Disease'}</td>\n",
              "      <td>Suxamethonium infusion rate and observed fasci...</td>\n",
              "    </tr>\n",
              "    <tr>\n",
              "      <th>2</th>\n",
              "      <td>603022</td>\n",
              "      <td>{'scopolamine': 'Chemical'}</td>\n",
              "      <td>{'overdose': 'Disease'}</td>\n",
              "      <td>Galanthamine hydrobromide, a longer acting ant...</td>\n",
              "    </tr>\n",
              "    <tr>\n",
              "      <th>3</th>\n",
              "      <td>1378968</td>\n",
              "      <td>{'lithium': 'Chemical'}</td>\n",
              "      <td>{'hypertension': 'Disease'}</td>\n",
              "      <td>Effects of uninephrectomy and high protein fee...</td>\n",
              "    </tr>\n",
              "    <tr>\n",
              "      <th>4</th>\n",
              "      <td>1378968</td>\n",
              "      <td>{'lithium': 'Chemical'}</td>\n",
              "      <td>{'proteinuria': 'Disease'}</td>\n",
              "      <td>Effects of uninephrectomy and high protein fee...</td>\n",
              "    </tr>\n",
              "  </tbody>\n",
              "</table>\n",
              "</div>\n",
              "      <button class=\"colab-df-convert\" onclick=\"convertToInteractive('df-a3d782b5-9e0a-45b0-b938-c8edd3e80050')\"\n",
              "              title=\"Convert this dataframe to an interactive table.\"\n",
              "              style=\"display:none;\">\n",
              "        \n",
              "  <svg xmlns=\"http://www.w3.org/2000/svg\" height=\"24px\"viewBox=\"0 0 24 24\"\n",
              "       width=\"24px\">\n",
              "    <path d=\"M0 0h24v24H0V0z\" fill=\"none\"/>\n",
              "    <path d=\"M18.56 5.44l.94 2.06.94-2.06 2.06-.94-2.06-.94-.94-2.06-.94 2.06-2.06.94zm-11 1L8.5 8.5l.94-2.06 2.06-.94-2.06-.94L8.5 2.5l-.94 2.06-2.06.94zm10 10l.94 2.06.94-2.06 2.06-.94-2.06-.94-.94-2.06-.94 2.06-2.06.94z\"/><path d=\"M17.41 7.96l-1.37-1.37c-.4-.4-.92-.59-1.43-.59-.52 0-1.04.2-1.43.59L10.3 9.45l-7.72 7.72c-.78.78-.78 2.05 0 2.83L4 21.41c.39.39.9.59 1.41.59.51 0 1.02-.2 1.41-.59l7.78-7.78 2.81-2.81c.8-.78.8-2.07 0-2.86zM5.41 20L4 18.59l7.72-7.72 1.47 1.35L5.41 20z\"/>\n",
              "  </svg>\n",
              "      </button>\n",
              "      \n",
              "  <style>\n",
              "    .colab-df-container {\n",
              "      display:flex;\n",
              "      flex-wrap:wrap;\n",
              "      gap: 12px;\n",
              "    }\n",
              "\n",
              "    .colab-df-convert {\n",
              "      background-color: #E8F0FE;\n",
              "      border: none;\n",
              "      border-radius: 50%;\n",
              "      cursor: pointer;\n",
              "      display: none;\n",
              "      fill: #1967D2;\n",
              "      height: 32px;\n",
              "      padding: 0 0 0 0;\n",
              "      width: 32px;\n",
              "    }\n",
              "\n",
              "    .colab-df-convert:hover {\n",
              "      background-color: #E2EBFA;\n",
              "      box-shadow: 0px 1px 2px rgba(60, 64, 67, 0.3), 0px 1px 3px 1px rgba(60, 64, 67, 0.15);\n",
              "      fill: #174EA6;\n",
              "    }\n",
              "\n",
              "    [theme=dark] .colab-df-convert {\n",
              "      background-color: #3B4455;\n",
              "      fill: #D2E3FC;\n",
              "    }\n",
              "\n",
              "    [theme=dark] .colab-df-convert:hover {\n",
              "      background-color: #434B5C;\n",
              "      box-shadow: 0px 1px 3px 1px rgba(0, 0, 0, 0.15);\n",
              "      filter: drop-shadow(0px 1px 2px rgba(0, 0, 0, 0.3));\n",
              "      fill: #FFFFFF;\n",
              "    }\n",
              "  </style>\n",
              "\n",
              "      <script>\n",
              "        const buttonEl =\n",
              "          document.querySelector('#df-a3d782b5-9e0a-45b0-b938-c8edd3e80050 button.colab-df-convert');\n",
              "        buttonEl.style.display =\n",
              "          google.colab.kernel.accessAllowed ? 'block' : 'none';\n",
              "\n",
              "        async function convertToInteractive(key) {\n",
              "          const element = document.querySelector('#df-a3d782b5-9e0a-45b0-b938-c8edd3e80050');\n",
              "          const dataTable =\n",
              "            await google.colab.kernel.invokeFunction('convertToInteractive',\n",
              "                                                     [key], {});\n",
              "          if (!dataTable) return;\n",
              "\n",
              "          const docLinkHtml = 'Like what you see? Visit the ' +\n",
              "            '<a target=\"_blank\" href=https://colab.research.google.com/notebooks/data_table.ipynb>data table notebook</a>'\n",
              "            + ' to learn more about interactive tables.';\n",
              "          element.innerHTML = '';\n",
              "          dataTable['output_type'] = 'display_data';\n",
              "          await google.colab.output.renderOutput(dataTable, element);\n",
              "          const docLink = document.createElement('div');\n",
              "          docLink.innerHTML = docLinkHtml;\n",
              "          element.appendChild(docLink);\n",
              "        }\n",
              "      </script>\n",
              "    </div>\n",
              "  </div>\n",
              "  "
            ]
          },
          "metadata": {},
          "execution_count": 56
        }
      ]
    },
    {
      "cell_type": "code",
      "source": [
        "train_cid.to_csv('train_cid.csv', index=False)\n",
        "test_cid.to_csv('test_cid.csv', index=False)\n",
        "dev_cid.to_csv('dev_cid.csv', index = False)"
      ],
      "metadata": {
        "id": "66qUc_kEcB_l"
      },
      "execution_count": 57,
      "outputs": []
    }
  ],
  "metadata": {
    "colab": {
      "name": "Convert_to_IOB.ipynb",
      "provenance": [],
      "include_colab_link": true
    },
    "kernelspec": {
      "display_name": "Python 3",
      "name": "python3"
    },
    "language_info": {
      "name": "python"
    },
    "accelerator": "GPU",
    "gpuClass": "standard"
  },
  "nbformat": 4,
  "nbformat_minor": 0
}